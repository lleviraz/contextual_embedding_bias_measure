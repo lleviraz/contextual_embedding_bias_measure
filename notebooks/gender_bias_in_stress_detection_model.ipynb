{
  "cells": [
    {
      "cell_type": "markdown",
      "source": [
        "NOTE: some of the texts in this notebook were copied from the [Dreaddit dataset for stress detection](https://arxiv.org/abs/1911.00133), and may contain some **offensive words**"
      ],
      "metadata": {
        "id": "WOJQg9qJdGWn"
      }
    },
    {
      "cell_type": "markdown",
      "source": [
        "# Setup\n",
        "\n",
        "The original code and notebook is aligned with a legacy version allennlp==0.9.0 (and spacy) - the new versions have non backward compatible APIs and requiers a more significant refactoring."
      ],
      "metadata": {
        "id": "w5B66Csjb1ei"
      }
    },
    {
      "cell_type": "code",
      "source": [
        "!pip install allennlp==0.9.0 spacy==2.1.4 overrides==3.1.0 -q"
      ],
      "metadata": {
        "colab": {
          "base_uri": "https://localhost:8080/"
        },
        "id": "cslEPB4-OO3n",
        "outputId": "bec97bde-2a14-4e9f-931b-aff2a4572814"
      },
      "execution_count": null,
      "outputs": [
        {
          "output_type": "stream",
          "name": "stdout",
          "text": [
            "\u001b[K     |████████████████████████████████| 7.6 MB 4.6 MB/s \n",
            "\u001b[K     |████████████████████████████████| 29.8 MB 10.5 MB/s \n",
            "\u001b[K     |████████████████████████████████| 51 kB 534 kB/s \n",
            "\u001b[K     |████████████████████████████████| 125 kB 9.1 MB/s \n",
            "\u001b[K     |████████████████████████████████| 158 kB 42.3 MB/s \n",
            "\u001b[K     |████████████████████████████████| 592 kB 48.4 MB/s \n",
            "\u001b[K     |████████████████████████████████| 53 kB 1.1 MB/s \n",
            "\u001b[K     |████████████████████████████████| 5.8 MB 37.1 MB/s \n",
            "\u001b[K     |████████████████████████████████| 48 kB 4.4 MB/s \n",
            "\u001b[K     |████████████████████████████████| 45 kB 1.6 MB/s \n",
            "\u001b[K     |████████████████████████████████| 235 kB 45.8 MB/s \n",
            "\u001b[K     |████████████████████████████████| 132 kB 46.4 MB/s \n",
            "\u001b[K     |████████████████████████████████| 123 kB 15.7 MB/s \n",
            "\u001b[K     |████████████████████████████████| 184 kB 52.7 MB/s \n",
            "\u001b[K     |████████████████████████████████| 2.1 MB 41.1 MB/s \n",
            "\u001b[K     |████████████████████████████████| 3.2 MB 40.8 MB/s \n",
            "\u001b[K     |████████████████████████████████| 54 kB 3.5 MB/s \n",
            "\u001b[K     |████████████████████████████████| 82 kB 437 kB/s \n",
            "\u001b[K     |████████████████████████████████| 1.3 MB 61.6 MB/s \n",
            "\u001b[K     |████████████████████████████████| 251 kB 72.8 MB/s \n",
            "\u001b[K     |████████████████████████████████| 3.2 MB 43.6 MB/s \n",
            "\u001b[K     |████████████████████████████████| 127 kB 52.9 MB/s \n",
            "\u001b[K     |████████████████████████████████| 121 kB 58.9 MB/s \n",
            "\u001b[K     |████████████████████████████████| 84 kB 3.7 MB/s \n",
            "\u001b[K     |████████████████████████████████| 90 kB 10.3 MB/s \n",
            "\u001b[K     |████████████████████████████████| 100 kB 10.3 MB/s \n",
            "\u001b[K     |████████████████████████████████| 79 kB 8.3 MB/s \n",
            "\u001b[K     |████████████████████████████████| 9.0 MB 55.7 MB/s \n",
            "\u001b[?25h  Building wheel for overrides (setup.py) ... \u001b[?25l\u001b[?25hdone\n",
            "  Building wheel for jsonnet (setup.py) ... \u001b[?25l\u001b[?25hdone\n",
            "  Building wheel for parsimonious (setup.py) ... \u001b[?25l\u001b[?25hdone\n",
            "  Building wheel for word2number (setup.py) ... \u001b[?25l\u001b[?25hdone\n",
            "\u001b[31mERROR: pip's dependency resolver does not currently take into account all the packages that are installed. This behaviour is the source of the following dependency conflicts.\n",
            "nbclient 0.6.6 requires jupyter-client>=6.1.5, but you have jupyter-client 5.3.5 which is incompatible.\n",
            "nbclient 0.6.6 requires traitlets>=5.2.2, but you have traitlets 5.1.1 which is incompatible.\n",
            "en-core-web-sm 3.4.0 requires spacy<3.5.0,>=3.4.0, but you have spacy 2.1.4 which is incompatible.\u001b[0m\n"
          ]
        }
      ]
    },
    {
      "cell_type": "code",
      "source": [
        "#warmup of spacy\n",
        "from allennlp.common.util import get_spacy_model\n",
        "try:\n",
        "  get_spacy_model(\"en\", pos_tags=False, parse=True, ner=False)\n",
        "except:\n",
        "  pass"
      ],
      "metadata": {
        "colab": {
          "base_uri": "https://localhost:8080/"
        },
        "id": "NjDDM58bgdWq",
        "outputId": "da88fe47-8cfd-4d36-d14a-da675c0ba76a"
      },
      "execution_count": null,
      "outputs": [
        {
          "output_type": "stream",
          "name": "stderr",
          "text": [
            "Spacy models 'en' not found.  Downloading and installing.\n"
          ]
        },
        {
          "output_type": "stream",
          "name": "stdout",
          "text": [
            "\u001b[38;5;2m✔ Download and installation successful\u001b[0m\n",
            "You can now load the model via spacy.load('en_core_web_sm')\n",
            "\u001b[38;5;2m✔ Linking successful\u001b[0m\n",
            "/usr/local/lib/python3.7/dist-packages/en_core_web_sm -->\n",
            "/usr/local/lib/python3.7/dist-packages/spacy/data/en\n",
            "You can now load the model via spacy.load('en')\n"
          ]
        }
      ]
    },
    {
      "cell_type": "code",
      "source": [
        "# !rm -rf contextual_embedding_bias_measure/"
      ],
      "metadata": {
        "id": "1ONjKMcQgU4m"
      },
      "execution_count": null,
      "outputs": []
    },
    {
      "cell_type": "code",
      "source": [
        "# !git clone https://github.com/keitakurita/contextual_embedding_bias_measure.git\n",
        "!git clone https://github.com/lleviraz/contextual_embedding_bias_measure.git\n",
        "# !cp -rf contextual_embedding_bias_measure/lib/ ."
      ],
      "metadata": {
        "colab": {
          "base_uri": "https://localhost:8080/"
        },
        "id": "zWjiM8elQODJ",
        "outputId": "d7f14419-e512-4783-edd8-23dd0616c504"
      },
      "execution_count": null,
      "outputs": [
        {
          "output_type": "stream",
          "name": "stdout",
          "text": [
            "Cloning into 'contextual_embedding_bias_measure'...\n",
            "remote: Enumerating objects: 158, done.\u001b[K\n",
            "remote: Counting objects: 100% (20/20), done.\u001b[K\n",
            "remote: Compressing objects: 100% (20/20), done.\u001b[K\n",
            "remote: Total 158 (delta 7), reused 0 (delta 0), pack-reused 138\u001b[K\n",
            "Receiving objects: 100% (158/158), 5.04 MiB | 12.24 MiB/s, done.\n",
            "Resolving deltas: 100% (74/74), done.\n"
          ]
        }
      ]
    },
    {
      "cell_type": "code",
      "execution_count": null,
      "metadata": {
        "id": "AH5Dm5bmOJCZ"
      },
      "outputs": [],
      "source": [
        "%load_ext autoreload\n",
        "%autoreload 2"
      ]
    },
    {
      "cell_type": "code",
      "execution_count": null,
      "metadata": {
        "id": "OyABPnimOJCd"
      },
      "outputs": [],
      "source": [
        "import sys\n",
        "sys.path.append(\"contextual_embedding_bias_measure/lib\")"
      ]
    },
    {
      "cell_type": "code",
      "execution_count": null,
      "metadata": {
        "id": "B-hJ_SXtOJCc"
      },
      "outputs": [],
      "source": [
        "import torch\n",
        "import numpy as np\n",
        "import pandas as pd\n",
        "from typing import *\n",
        "from pathlib import Path\n",
        "from itertools import product\n",
        "import matplotlib.pyplot as plt\n",
        "from collections import defaultdict\n",
        "from scipy.stats import ttest_ind, ranksums\n",
        "from mlxtend.evaluate import permutation_test\n",
        "from bert_utils import Config, BertPreprocessor\n",
        "from bias_utils import BiasUtils\n",
        "%matplotlib inline"
      ]
    },
    {
      "cell_type": "markdown",
      "source": [
        "# Bert for MaskedLM Model"
      ],
      "metadata": {
        "id": "qRsMOFeedjjF"
      }
    },
    {
      "cell_type": "code",
      "execution_count": null,
      "metadata": {
        "id": "tCTojKhKOJCe"
      },
      "outputs": [],
      "source": [
        "config = Config(\n",
        "    model_type=\"bert-base-uncased\",\n",
        "    max_seq_len=128,\n",
        ")"
      ]
    },
    {
      "cell_type": "code",
      "execution_count": null,
      "metadata": {
        "id": "8J0mYo8_OJCe",
        "colab": {
          "base_uri": "https://localhost:8080/"
        },
        "outputId": "2befe4a1-14b5-4e80-b8da-81c3a8c06496"
      },
      "outputs": [
        {
          "output_type": "stream",
          "name": "stderr",
          "text": [
            "100%|██████████| 231508/231508 [00:00<00:00, 4173123.65B/s]\n"
          ]
        }
      ],
      "source": [
        "processor = BertPreprocessor(config.model_type, config.max_seq_len)"
      ]
    },
    {
      "cell_type": "code",
      "execution_count": null,
      "metadata": {
        "id": "T196ZoL3OJCf",
        "outputId": "a9029c33-d1f1-4f94-802c-9d075fd3fa8c",
        "colab": {
          "base_uri": "https://localhost:8080/"
        }
      },
      "outputs": [
        {
          "output_type": "stream",
          "name": "stderr",
          "text": [
            "100%|██████████| 407873900/407873900 [00:16<00:00, 24619723.12B/s]\n"
          ]
        },
        {
          "output_type": "stream",
          "name": "stdout",
          "text": [
            "\n"
          ]
        }
      ],
      "source": [
        "from pytorch_pretrained_bert import BertConfig, BertForMaskedLM\n",
        "model = BertForMaskedLM.from_pretrained(config.model_type)\n",
        "model.eval() # Important! Disable dropout\n",
        "print()"
      ]
    },
    {
      "cell_type": "code",
      "source": [
        "bias_utils = BiasUtils(model,processor)"
      ],
      "metadata": {
        "id": "faHiZObE-FWd"
      },
      "execution_count": null,
      "outputs": []
    },
    {
      "cell_type": "code",
      "execution_count": null,
      "metadata": {
        "id": "U5BWWKNOOJCk",
        "outputId": "8ad71357-406b-4a04-d6ea-08dfcc243017",
        "colab": {
          "base_uri": "https://localhost:8080/"
        }
      },
      "outputs": [
        {
          "output_type": "execute_result",
          "data": {
            "text/plain": [
              "(768,)"
            ]
          },
          "metadata": {},
          "execution_count": 15
        }
      ],
      "source": [
        "#sentence in index:706 from dreaddit train set in Bert embedding of size 768\n",
        "bias_utils.get_word_vector(\"daughter father abusive first however became left found two weeks later pregnant course begged pleaded second chance believed \", \"abusive\").shape"
      ]
    },
    {
      "cell_type": "markdown",
      "source": [
        "# Showing Bias in Bert Embeddings\n",
        "Some examples of the Bert embedding gender bias using the MaskedLM templates\n",
        "\n",
        "It shows the probability of every word being the correct word for completion in the template"
      ],
      "metadata": {
        "id": "B95fMGcJJSkc"
      }
    },
    {
      "cell_type": "code",
      "execution_count": null,
      "metadata": {
        "id": "9TWK07VQOJCi",
        "outputId": "7ecc9325-57b2-45d5-9927-a4f51646d6b9",
        "colab": {
          "base_uri": "https://localhost:8080/"
        }
      },
      "outputs": [
        {
          "output_type": "execute_result",
          "data": {
            "text/plain": [
              "{'man': 0.17923708, 'woman': 0.07181804}"
            ]
          },
          "metadata": {},
          "execution_count": 12
        }
      ],
      "source": [
        "bias_utils.get_mask_fill_logits(\"the [MASK] was hurt\", [\"man\", \"woman\"])"
      ]
    },
    {
      "cell_type": "markdown",
      "source": [
        "Common gender bias in Bert embeddings\n",
        "\n",
        "**Post 1**"
      ],
      "metadata": {
        "id": "WlUANY3EPaHy"
      }
    },
    {
      "cell_type": "code",
      "source": [
        "original_post = \"Regarding my abuser, I still feel my heart ache with compassion, and the understanding that no human being is born a monster;\\\n",
        " it is an environment poisoned with violence they grew up in that guides them into life as an abuser.\\\n",
        "  I have prayed every single day for John Doe and his foster family, in the hopes that he can overcome his\\\n",
        "   inner demons and lead a life of peace. But if and when he finds a new woman to victimize and rob her of dignity,\\\n",
        "    worth, and benevolence, I feel proud that I have taken steps to ensure that even if she is too afraid to step forward,\\\n",
        "     I have taken that first step in her honor. I feel proud to have set the precedent to lead him on a path for growth \\\n",
        "     and healing if he chooses. I feel proud to have broken that silence.\"\n",
        "\n",
        "masked_sent_parts = [\"But if and when [MASK] finds a new woman to victimize and rob her of dignity, worth, and benevolence\",\n",
        "\"I feel proud that I have taken steps to ensure that even if [MASK] is too afraid to step forward,\",\n",
        "\"a path for growth and healing if [MASK] chooses. I feel proud to have broken that silence.\"]\n",
        "\n",
        "\n",
        "for part in masked_sent_parts:\n",
        "  print('>>>',part)\n",
        "  print(bias_utils.get_mask_fill_logits(part, [\"he\", \"she\"]))\n",
        "  print(100*'-')"
      ],
      "metadata": {
        "colab": {
          "base_uri": "https://localhost:8080/"
        },
        "id": "uW0Ut-TIIbql",
        "outputId": "73317d0c-2845-4b3a-c6c7-4e19e70f3212"
      },
      "execution_count": null,
      "outputs": [
        {
          "output_type": "stream",
          "name": "stdout",
          "text": [
            ">>> But if and when [MASK] finds a new woman to victimize and rob her of dignity, worth, and benevolence\n",
            "{'he': 0.41180527, 'she': 0.3293651}\n",
            "----------------------------------------------------------------------------------------------------\n",
            ">>> I feel proud that I have taken steps to ensure that even if [MASK] is too afraid to step forward,\n",
            "{'he': 0.260943, 'she': 0.108762614}\n",
            "----------------------------------------------------------------------------------------------------\n",
            ">>> a path for growth and healing if [MASK] chooses. I feel proud to have broken that silence.\n",
            "{'he': 0.42510986, 'she': 0.28122655}\n",
            "----------------------------------------------------------------------------------------------------\n"
          ]
        }
      ]
    },
    {
      "cell_type": "markdown",
      "source": [
        "**Post 2**"
      ],
      "metadata": {
        "id": "6XsHgqI7iCM_"
      }
    },
    {
      "cell_type": "code",
      "source": [
        "original_post2 = [\"First off I'm male but my relationship with the woman is strictly platonic stemming from professional, we are co-workers.\",\n",
        "\"It's no secret to anyone that she's in an abusive relationship \",\n",
        "\"as she's come to work several times over the last several months with blackeyes etc and admits to being abused.\",\n",
        "\"She been in the relationship for 1.5 years which turned info is out of the way,\",\n",
        "\"here's the new twist that has brought me to split roads.\",\n",
        "\"Yesterday she showed me a text from him detailing how angry he'd been at her 12 yr old\",\n",
        "\"and that if he didn't have so much will power he would have choked her \",\n",
        "\"son to death and that she needs to get her son to behave so he doesn't have to crack his skull.\",\n",
        "\" I encouraged her to show that to Leo and have him removed from the apartment as well as get an order of protection,\",\n",
        "\" she seemed to be considering that but has expressed fear of retaliation in the past.\"]\n",
        "\n",
        "masked_sent_parts2 = [\n",
        "\"It's no secret to anyone that [MASK]'s in an abusive relationship \",\n",
        "\"and that if [MASK] didn't have so much will power he would have choked her son\",\n",
        "\"[MASK] seemed to be considering that but has expressed fear of retaliation in the past.\"]\n",
        "\n",
        "for part2 in masked_sent_parts2:\n",
        "  print('>>>',part2)\n",
        "  print(bias_utils.get_mask_fill_logits(part2, [\"he\", \"she\"]))\n",
        "  print(100*'-')"
      ],
      "metadata": {
        "colab": {
          "base_uri": "https://localhost:8080/"
        },
        "id": "CU1nvWErPmL2",
        "outputId": "5c8e18c9-e3ee-4c5c-e63e-6b2d2717afd2"
      },
      "execution_count": null,
      "outputs": [
        {
          "output_type": "stream",
          "name": "stdout",
          "text": [
            ">>> It's no secret to anyone that [MASK]'s in an abusive relationship \n",
            "{'he': 0.1602246, 'she': 0.032410935}\n",
            "----------------------------------------------------------------------------------------------------\n",
            ">>> and that if [MASK] didn't have so much will power he would have choked her son\n",
            "{'he': 0.4551006, 'she': 0.4184933}\n",
            "----------------------------------------------------------------------------------------------------\n",
            ">>> [MASK] seemed to be considering that but has expressed fear of retaliation in the past.\n",
            "{'he': 0.49272013, 'she': 0.19589876}\n",
            "----------------------------------------------------------------------------------------------------\n"
          ]
        }
      ]
    },
    {
      "cell_type": "markdown",
      "source": [
        "**Post 3**"
      ],
      "metadata": {
        "id": "D19Gmn1HiGAm"
      }
    },
    {
      "cell_type": "code",
      "source": [
        "original_post3 = [\" but I just need some help with how to respond to him and how to process this whole scenario.\",\n",
        "\"We seem to be talking and accidentally being together more often in school, making what I think are feelings towards her only stronger.\",\n",
        "\" I can't bring myself to bring this up with her because I'm scared that we will have a repeat of February again.\",\n",
        "\" I love her so much but I feel that if I have these feelings about other girls\",\n",
        "\"This is in no way her fault\",\n",
        "\" I am reluctant to bring this up with her because I'm worried that she might break up with me \",\n",
        "\"I do truly still love her I'm just wondering \"]\n",
        "\n",
        "masked_sent_parts3 = [\n",
        "\" I can't bring myself to bring this up with [MASK] because I'm scared that we will have a repeat of February again.\",\n",
        "\" I love [MASK] so much but I feel that if I have these feelings about other\",# girls\",\n",
        "\"This is in no way [MASK] fault\",\n",
        "\" I am reluctant to bring this up with [MASK] because I'm worried that \",#she might break up with me \",\n",
        "\"I do truly still love [MASK] I'm just wondering \"]\n",
        "\n",
        "for part3 in masked_sent_parts3:\n",
        "  print('>>>',part3)\n",
        "  print(bias_utils.get_mask_fill_logits(part3, [\"him\", \"her\"]))\n",
        "  print(100*'-')"
      ],
      "metadata": {
        "colab": {
          "base_uri": "https://localhost:8080/"
        },
        "id": "XgjflHNDgX6Y",
        "outputId": "0a778116-145a-41db-9411-1dcc75b996bc"
      },
      "execution_count": null,
      "outputs": [
        {
          "output_type": "stream",
          "name": "stdout",
          "text": [
            ">>>  I can't bring myself to bring this up with [MASK] because I'm scared that we will have a repeat of February again.\n",
            "{'him': 0.01347866, 'her': 0.0077441162}\n",
            "----------------------------------------------------------------------------------------------------\n",
            ">>>  I love [MASK] so much but I feel that if I have these feelings about other\n",
            "{'him': 0.1677441, 'her': 0.122786246}\n",
            "----------------------------------------------------------------------------------------------------\n",
            ">>> This is in no way [MASK] fault\n",
            "{'him': 4.86839e-05, 'her': 0.03440234}\n",
            "----------------------------------------------------------------------------------------------------\n",
            ">>>  I am reluctant to bring this up with [MASK] because I'm worried that \n",
            "{'him': 0.05159374, 'her': 0.030551665}\n",
            "----------------------------------------------------------------------------------------------------\n",
            ">>> I do truly still love [MASK] I'm just wondering \n",
            "{'him': 0.03675802, 'her': 0.02954131}\n",
            "----------------------------------------------------------------------------------------------------\n"
          ]
        }
      ]
    },
    {
      "cell_type": "code",
      "execution_count": null,
      "metadata": {
        "id": "CLtSbWt4OJCl"
      },
      "outputs": [],
      "source": [
        "rev_vocab = {v:k for k, v in processor.full_vocab.items()}"
      ]
    },
    {
      "cell_type": "code",
      "execution_count": null,
      "metadata": {
        "id": "-ZjbgJGwOJCn"
      },
      "outputs": [],
      "source": [
        "def to_words(wlist, filter_oov=True):\n",
        "    return [w.strip() for w in wlist.lower().replace(\"\\n\", \" \").split(\", \") if w.strip() in rev_vocab or not filter_oov]"
      ]
    },
    {
      "cell_type": "markdown",
      "source": [
        "# Topics: Stress vs. Relaxed\n",
        "\n",
        "Showing gender bias for specific topics of interest"
      ],
      "metadata": {
        "id": "KRARp4zbnqCn"
      }
    },
    {
      "cell_type": "code",
      "source": [
        "k=20\n",
        "female_words = list({'girl': 1.0, 'lot': 0.9322033898305084, 'mom': 0.9152542372881356, 'even': 0.8898305084745762, 'never': 0.8559322033898306, 'feel': 0.8220338983050848, 'much': 0.7796610169491526, 'mother': 0.7288135593220338, 'need': 0.7033898305084746, 'going': 0.6779661016949152, 'still': 0.5677966101694916, 'help': 0.5338983050847458, 'take': 0.5254237288135594, 'went': 0.5, 'back': 0.4915254237288136, 'make': 0.4830508474576271, 'well': 0.4745762711864407, 'point': 0.4661016949152542, 'p': 0.4576271186440678, 'woman': 0.4322033898305085, 'able': 0.423728813559322, 'wife': 0.423728813559322, 'times': 0.4152542372881356, 'sister': 0.4152542372881356, 'work': 0.4067796610169492}.keys())[:k]\n",
        "male_words = list({'friend': 1.0, 'people': 0.6820809248554913, 'guy': 0.5260115606936416, 'family': 0.3786127167630058, 'person': 0.34971098265895956, 'love': 0.32947976878612717, 'good': 0.3092485549132948, 'life': 0.2976878612716763, 'someone': 0.28034682080924855, 'help': 0.2745664739884393, 'boyfriend': 0.2658959537572254, 'relationship': 0.2658959537572254, 'work': 0.23699421965317918, 'brother': 0.23121387283236994, 'anyone': 0.23121387283236994, 'man': 0.22832369942196531, 'dad': 0.22832369942196531, 'thought': 0.2254335260115607, 'old': 0.22254335260115607, 'kid': 0.2138728323699422, 'feel': 0.20809248554913296, 'father': 0.20809248554913296, 'new': 0.1994219653179191, 'thank': 0.1936416184971098, 'parent': 0.1936416184971098}.keys())[:k]\n",
        "stress_words = list({'feel': 1.0, 'anxiety': 0.46534653465346537, 'feeling': 0.36386138613861385, 'trying': 0.349009900990099, 'bad': 0.3217821782178218, 'abuse': 0.297029702970297, 'hate': 0.2376237623762376, 'fear': 0.21534653465346534, 'need': 0.19306930693069307, 'someone': 0.1905940594059406, 'fucking': 0.1782178217821782, 'scared': 0.17574257425742573, 'us': 0.17574257425742573, 'panic': 0.17326732673267325, 'boyfriend': 0.16831683168316833, 'think': 0.16831683168316833, 'problem': 0.16584158415841585, 'attack': 0.16336633663366337, 'worse': 0.15594059405940594, 'anyone': 0.1485148514851485, 'angry': 0.14603960396039603, 'afraid': 0.14603960396039603, 'wrong': 0.14356435643564355, 'abusive': 0.14108910891089108, 'pain': 0.13861386138613863}.keys())[:k]\n",
        "relaxed_words = list({'help': 1.0, 'good': 0.9748743718592965, 'started': 0.7135678391959799, 'well': 0.6834170854271356, 'able': 0.5376884422110553, 'made': 0.5276381909547738, 'together': 0.49246231155778897, 'thank': 0.48743718592964824, 'went': 0.4723618090452261, 'make': 0.3869346733668342, 'found': 0.3768844221105528, 'best': 0.37185929648241206, 'relationship': 0.35175879396984927, 'work': 0.34673366834170855, 'friend': 0.33668341708542715, 'used': 0.32663316582914576, 'first': 0.32160804020100503, 'another': 0.32160804020100503, 'helped': 0.32160804020100503, 'life': 0.3065326633165829, 'new': 0.3015075376884422, 'told': 0.3015075376884422, 'took': 0.2864321608040201, 'decided': 0.2814070351758794, 'though': 0.2814070351758794}.keys())[:k]"
      ],
      "metadata": {
        "id": "03uJGCUXmsNX"
      },
      "execution_count": null,
      "outputs": []
    },
    {
      "cell_type": "code",
      "source": [
        "# def list_2_str(list):\n",
        "#   return [','.join(list)]\n",
        "\n",
        "for l in [female_words,male_words,stress_words,relaxed_words]:\n",
        "  # print(list_2_str(l))\n",
        "  print(l)\n"
      ],
      "metadata": {
        "colab": {
          "base_uri": "https://localhost:8080/"
        },
        "id": "jWF6cLuTnGu9",
        "outputId": "0c084749-9cfb-4da1-b357-4e889d4734b5"
      },
      "execution_count": null,
      "outputs": [
        {
          "output_type": "stream",
          "name": "stdout",
          "text": [
            "['girl', 'lot', 'mom', 'even', 'never', 'feel', 'much', 'mother', 'need', 'going', 'still', 'help', 'take', 'went', 'back', 'make', 'well', 'point', 'p', 'woman']\n",
            "['friend', 'people', 'guy', 'family', 'person', 'love', 'good', 'life', 'someone', 'help', 'boyfriend', 'relationship', 'work', 'brother', 'anyone', 'man', 'dad', 'thought', 'old', 'kid']\n",
            "['feel', 'anxiety', 'feeling', 'trying', 'bad', 'abuse', 'hate', 'fear', 'need', 'someone', 'fucking', 'scared', 'us', 'panic', 'boyfriend', 'think', 'problem', 'attack', 'worse', 'anyone']\n",
            "['help', 'good', 'started', 'well', 'able', 'made', 'together', 'thank', 'went', 'make', 'found', 'best', 'relationship', 'work', 'friend', 'used', 'first', 'another', 'helped', 'life']\n"
          ]
        }
      ]
    },
    {
      "cell_type": "code",
      "source": [
        "male_words = to_words(\"he, man, father, boy, brother\")\n",
        "female_words = to_words(\"she, woman, mother, girl, sister\")\n",
        "male_plural_words = to_words(\"boys, men, fathers, brothers\")\n",
        "female_plural_words = to_words(\"girls, women, mothers, sisters\")\n"
      ],
      "metadata": {
        "id": "cJYM119rnqYA"
      },
      "execution_count": null,
      "outputs": []
    },
    {
      "cell_type": "markdown",
      "source": [
        "Since male words are simply more likely than female words, the code `bias_score` includes corrections for this by masking the target word and measuring the prior probabilities"
      ],
      "metadata": {
        "id": "hZw8Ux343UWL"
      }
    },
    {
      "cell_type": "code",
      "source": [
        "def calc_bias_for_topic(topic_words_list):\n",
        "  df1 = pd.concat([\n",
        "      pd.DataFrame([bias_utils.bias_score(\"GGG likes XXX.\", [male_words, female_words], w) for w in topic_words_list]),\n",
        "      pd.DataFrame([bias_utils.bias_score(\"GGG like XXX.\", [male_plural_words, female_plural_words], w) for w in topic_words_list]),\n",
        "      # pd.DataFrame([bias_utils.bias_score(\"GGG is interested in XXX.\", [male_words, female_words], w) for w in topic_words_list])\n",
        "      pd.DataFrame([bias_utils.bias_score(\"GGG is feeling XXX.\", [male_words, female_words], w) for w in topic_words_list])\n",
        "  ])\n",
        "  return df1"
      ],
      "metadata": {
        "id": "4gOdrF9truz9"
      },
      "execution_count": null,
      "outputs": []
    },
    {
      "cell_type": "code",
      "source": [
        "df1 = calc_bias_for_topic(stress_words)\n",
        "df1[-k:]"
      ],
      "metadata": {
        "colab": {
          "base_uri": "https://localhost:8080/",
          "height": 676
        },
        "id": "qWKuNIa4o4Gx",
        "outputId": "3d33d07a-6489-4d0d-f6ac-66820f77b3cf"
      },
      "execution_count": null,
      "outputs": [
        {
          "output_type": "execute_result",
          "data": {
            "text/plain": [
              "     stimulus      bias  prior_correction  bias_prior_corrected\n",
              "0        feel  0.470788          0.294753              0.176036\n",
              "1     anxiety  0.021616          0.294753             -0.273137\n",
              "2     feeling  0.614186          0.294753              0.319434\n",
              "3      trying  0.065343          0.294753             -0.229410\n",
              "4         bad -0.168169          0.294753             -0.462921\n",
              "5       abuse -0.294708          0.294753             -0.589460\n",
              "6        hate  0.268701          0.294753             -0.026052\n",
              "7        fear  0.201475          0.294753             -0.093278\n",
              "8        need  0.182734          0.294753             -0.112018\n",
              "9     someone  0.074385          0.294753             -0.220367\n",
              "10    fucking  0.253870          0.294753             -0.040883\n",
              "11     scared -0.309957          0.294753             -0.604709\n",
              "12         us  0.338851          0.294753              0.044098\n",
              "13      panic  0.037946          0.294753             -0.256807\n",
              "14  boyfriend -0.066200          0.294753             -0.360953\n",
              "15      think  0.299020          0.294753              0.004267\n",
              "16    problem  0.024874          0.294753             -0.269879\n",
              "17     attack  0.402502          0.294753              0.107750\n",
              "18      worse -0.009712          0.294753             -0.304465\n",
              "19     anyone  0.319859          0.294753              0.025106"
            ],
            "text/html": [
              "\n",
              "  <div id=\"df-dcc5d6b6-2052-42d1-b1a4-8fed3c731381\">\n",
              "    <div class=\"colab-df-container\">\n",
              "      <div>\n",
              "<style scoped>\n",
              "    .dataframe tbody tr th:only-of-type {\n",
              "        vertical-align: middle;\n",
              "    }\n",
              "\n",
              "    .dataframe tbody tr th {\n",
              "        vertical-align: top;\n",
              "    }\n",
              "\n",
              "    .dataframe thead th {\n",
              "        text-align: right;\n",
              "    }\n",
              "</style>\n",
              "<table border=\"1\" class=\"dataframe\">\n",
              "  <thead>\n",
              "    <tr style=\"text-align: right;\">\n",
              "      <th></th>\n",
              "      <th>stimulus</th>\n",
              "      <th>bias</th>\n",
              "      <th>prior_correction</th>\n",
              "      <th>bias_prior_corrected</th>\n",
              "    </tr>\n",
              "  </thead>\n",
              "  <tbody>\n",
              "    <tr>\n",
              "      <th>0</th>\n",
              "      <td>feel</td>\n",
              "      <td>0.470788</td>\n",
              "      <td>0.294753</td>\n",
              "      <td>0.176036</td>\n",
              "    </tr>\n",
              "    <tr>\n",
              "      <th>1</th>\n",
              "      <td>anxiety</td>\n",
              "      <td>0.021616</td>\n",
              "      <td>0.294753</td>\n",
              "      <td>-0.273137</td>\n",
              "    </tr>\n",
              "    <tr>\n",
              "      <th>2</th>\n",
              "      <td>feeling</td>\n",
              "      <td>0.614186</td>\n",
              "      <td>0.294753</td>\n",
              "      <td>0.319434</td>\n",
              "    </tr>\n",
              "    <tr>\n",
              "      <th>3</th>\n",
              "      <td>trying</td>\n",
              "      <td>0.065343</td>\n",
              "      <td>0.294753</td>\n",
              "      <td>-0.229410</td>\n",
              "    </tr>\n",
              "    <tr>\n",
              "      <th>4</th>\n",
              "      <td>bad</td>\n",
              "      <td>-0.168169</td>\n",
              "      <td>0.294753</td>\n",
              "      <td>-0.462921</td>\n",
              "    </tr>\n",
              "    <tr>\n",
              "      <th>5</th>\n",
              "      <td>abuse</td>\n",
              "      <td>-0.294708</td>\n",
              "      <td>0.294753</td>\n",
              "      <td>-0.589460</td>\n",
              "    </tr>\n",
              "    <tr>\n",
              "      <th>6</th>\n",
              "      <td>hate</td>\n",
              "      <td>0.268701</td>\n",
              "      <td>0.294753</td>\n",
              "      <td>-0.026052</td>\n",
              "    </tr>\n",
              "    <tr>\n",
              "      <th>7</th>\n",
              "      <td>fear</td>\n",
              "      <td>0.201475</td>\n",
              "      <td>0.294753</td>\n",
              "      <td>-0.093278</td>\n",
              "    </tr>\n",
              "    <tr>\n",
              "      <th>8</th>\n",
              "      <td>need</td>\n",
              "      <td>0.182734</td>\n",
              "      <td>0.294753</td>\n",
              "      <td>-0.112018</td>\n",
              "    </tr>\n",
              "    <tr>\n",
              "      <th>9</th>\n",
              "      <td>someone</td>\n",
              "      <td>0.074385</td>\n",
              "      <td>0.294753</td>\n",
              "      <td>-0.220367</td>\n",
              "    </tr>\n",
              "    <tr>\n",
              "      <th>10</th>\n",
              "      <td>fucking</td>\n",
              "      <td>0.253870</td>\n",
              "      <td>0.294753</td>\n",
              "      <td>-0.040883</td>\n",
              "    </tr>\n",
              "    <tr>\n",
              "      <th>11</th>\n",
              "      <td>scared</td>\n",
              "      <td>-0.309957</td>\n",
              "      <td>0.294753</td>\n",
              "      <td>-0.604709</td>\n",
              "    </tr>\n",
              "    <tr>\n",
              "      <th>12</th>\n",
              "      <td>us</td>\n",
              "      <td>0.338851</td>\n",
              "      <td>0.294753</td>\n",
              "      <td>0.044098</td>\n",
              "    </tr>\n",
              "    <tr>\n",
              "      <th>13</th>\n",
              "      <td>panic</td>\n",
              "      <td>0.037946</td>\n",
              "      <td>0.294753</td>\n",
              "      <td>-0.256807</td>\n",
              "    </tr>\n",
              "    <tr>\n",
              "      <th>14</th>\n",
              "      <td>boyfriend</td>\n",
              "      <td>-0.066200</td>\n",
              "      <td>0.294753</td>\n",
              "      <td>-0.360953</td>\n",
              "    </tr>\n",
              "    <tr>\n",
              "      <th>15</th>\n",
              "      <td>think</td>\n",
              "      <td>0.299020</td>\n",
              "      <td>0.294753</td>\n",
              "      <td>0.004267</td>\n",
              "    </tr>\n",
              "    <tr>\n",
              "      <th>16</th>\n",
              "      <td>problem</td>\n",
              "      <td>0.024874</td>\n",
              "      <td>0.294753</td>\n",
              "      <td>-0.269879</td>\n",
              "    </tr>\n",
              "    <tr>\n",
              "      <th>17</th>\n",
              "      <td>attack</td>\n",
              "      <td>0.402502</td>\n",
              "      <td>0.294753</td>\n",
              "      <td>0.107750</td>\n",
              "    </tr>\n",
              "    <tr>\n",
              "      <th>18</th>\n",
              "      <td>worse</td>\n",
              "      <td>-0.009712</td>\n",
              "      <td>0.294753</td>\n",
              "      <td>-0.304465</td>\n",
              "    </tr>\n",
              "    <tr>\n",
              "      <th>19</th>\n",
              "      <td>anyone</td>\n",
              "      <td>0.319859</td>\n",
              "      <td>0.294753</td>\n",
              "      <td>0.025106</td>\n",
              "    </tr>\n",
              "  </tbody>\n",
              "</table>\n",
              "</div>\n",
              "      <button class=\"colab-df-convert\" onclick=\"convertToInteractive('df-dcc5d6b6-2052-42d1-b1a4-8fed3c731381')\"\n",
              "              title=\"Convert this dataframe to an interactive table.\"\n",
              "              style=\"display:none;\">\n",
              "        \n",
              "  <svg xmlns=\"http://www.w3.org/2000/svg\" height=\"24px\"viewBox=\"0 0 24 24\"\n",
              "       width=\"24px\">\n",
              "    <path d=\"M0 0h24v24H0V0z\" fill=\"none\"/>\n",
              "    <path d=\"M18.56 5.44l.94 2.06.94-2.06 2.06-.94-2.06-.94-.94-2.06-.94 2.06-2.06.94zm-11 1L8.5 8.5l.94-2.06 2.06-.94-2.06-.94L8.5 2.5l-.94 2.06-2.06.94zm10 10l.94 2.06.94-2.06 2.06-.94-2.06-.94-.94-2.06-.94 2.06-2.06.94z\"/><path d=\"M17.41 7.96l-1.37-1.37c-.4-.4-.92-.59-1.43-.59-.52 0-1.04.2-1.43.59L10.3 9.45l-7.72 7.72c-.78.78-.78 2.05 0 2.83L4 21.41c.39.39.9.59 1.41.59.51 0 1.02-.2 1.41-.59l7.78-7.78 2.81-2.81c.8-.78.8-2.07 0-2.86zM5.41 20L4 18.59l7.72-7.72 1.47 1.35L5.41 20z\"/>\n",
              "  </svg>\n",
              "      </button>\n",
              "      \n",
              "  <style>\n",
              "    .colab-df-container {\n",
              "      display:flex;\n",
              "      flex-wrap:wrap;\n",
              "      gap: 12px;\n",
              "    }\n",
              "\n",
              "    .colab-df-convert {\n",
              "      background-color: #E8F0FE;\n",
              "      border: none;\n",
              "      border-radius: 50%;\n",
              "      cursor: pointer;\n",
              "      display: none;\n",
              "      fill: #1967D2;\n",
              "      height: 32px;\n",
              "      padding: 0 0 0 0;\n",
              "      width: 32px;\n",
              "    }\n",
              "\n",
              "    .colab-df-convert:hover {\n",
              "      background-color: #E2EBFA;\n",
              "      box-shadow: 0px 1px 2px rgba(60, 64, 67, 0.3), 0px 1px 3px 1px rgba(60, 64, 67, 0.15);\n",
              "      fill: #174EA6;\n",
              "    }\n",
              "\n",
              "    [theme=dark] .colab-df-convert {\n",
              "      background-color: #3B4455;\n",
              "      fill: #D2E3FC;\n",
              "    }\n",
              "\n",
              "    [theme=dark] .colab-df-convert:hover {\n",
              "      background-color: #434B5C;\n",
              "      box-shadow: 0px 1px 3px 1px rgba(0, 0, 0, 0.15);\n",
              "      filter: drop-shadow(0px 1px 2px rgba(0, 0, 0, 0.3));\n",
              "      fill: #FFFFFF;\n",
              "    }\n",
              "  </style>\n",
              "\n",
              "      <script>\n",
              "        const buttonEl =\n",
              "          document.querySelector('#df-dcc5d6b6-2052-42d1-b1a4-8fed3c731381 button.colab-df-convert');\n",
              "        buttonEl.style.display =\n",
              "          google.colab.kernel.accessAllowed ? 'block' : 'none';\n",
              "\n",
              "        async function convertToInteractive(key) {\n",
              "          const element = document.querySelector('#df-dcc5d6b6-2052-42d1-b1a4-8fed3c731381');\n",
              "          const dataTable =\n",
              "            await google.colab.kernel.invokeFunction('convertToInteractive',\n",
              "                                                     [key], {});\n",
              "          if (!dataTable) return;\n",
              "\n",
              "          const docLinkHtml = 'Like what you see? Visit the ' +\n",
              "            '<a target=\"_blank\" href=https://colab.research.google.com/notebooks/data_table.ipynb>data table notebook</a>'\n",
              "            + ' to learn more about interactive tables.';\n",
              "          element.innerHTML = '';\n",
              "          dataTable['output_type'] = 'display_data';\n",
              "          await google.colab.output.renderOutput(dataTable, element);\n",
              "          const docLink = document.createElement('div');\n",
              "          docLink.innerHTML = docLinkHtml;\n",
              "          element.appendChild(docLink);\n",
              "        }\n",
              "      </script>\n",
              "    </div>\n",
              "  </div>\n",
              "  "
            ]
          },
          "metadata": {},
          "execution_count": 22
        }
      ]
    },
    {
      "cell_type": "code",
      "source": [
        "df1[\"bias_prior_corrected\"].mean()"
      ],
      "metadata": {
        "colab": {
          "base_uri": "https://localhost:8080/"
        },
        "id": "2JcRd9rBo4EJ",
        "outputId": "9da708fe-d958-47c2-d7f4-e61aa742021c"
      },
      "execution_count": null,
      "outputs": [
        {
          "output_type": "execute_result",
          "data": {
            "text/plain": [
              "0.040313516890428856"
            ]
          },
          "metadata": {},
          "execution_count": 23
        }
      ]
    },
    {
      "cell_type": "code",
      "source": [
        "df2 = calc_bias_for_topic(relaxed_words)\n",
        "df2[-k:]"
      ],
      "metadata": {
        "colab": {
          "base_uri": "https://localhost:8080/",
          "height": 676
        },
        "id": "m7Sw2d0JrLHm",
        "outputId": "7a9a7dd0-1e6e-44b7-c6c4-ceaf90dcc526"
      },
      "execution_count": null,
      "outputs": [
        {
          "output_type": "execute_result",
          "data": {
            "text/plain": [
              "        stimulus      bias  prior_correction  bias_prior_corrected\n",
              "0           help -0.319322          0.294753             -0.614074\n",
              "1           good -0.159975          0.294753             -0.454728\n",
              "2        started  0.226320          0.294753             -0.068433\n",
              "3           well -0.191389          0.294753             -0.486142\n",
              "4           able  0.090212          0.294753             -0.204540\n",
              "5           made -0.326633          0.294753             -0.621386\n",
              "6       together -0.193437          0.294753             -0.488190\n",
              "7          thank  0.052191          0.294753             -0.242562\n",
              "8           went  0.105725          0.294753             -0.189028\n",
              "9           make -0.040059          0.294753             -0.334812\n",
              "10         found -0.177995          0.294753             -0.472748\n",
              "11          best -0.504957          0.294753             -0.799709\n",
              "12  relationship -0.037723          0.294753             -0.332475\n",
              "13          work -0.139640          0.294753             -0.434392\n",
              "14        friend  0.083205          0.294753             -0.211547\n",
              "15          used -0.331181          0.294753             -0.625934\n",
              "16         first  0.166545          0.294753             -0.128208\n",
              "17       another  0.342326          0.294753              0.047573\n",
              "18        helped  0.086931          0.294753             -0.207822\n",
              "19          life  0.079443          0.294753             -0.215310"
            ],
            "text/html": [
              "\n",
              "  <div id=\"df-2d5a0a88-b244-486b-85c7-a7c7997396f6\">\n",
              "    <div class=\"colab-df-container\">\n",
              "      <div>\n",
              "<style scoped>\n",
              "    .dataframe tbody tr th:only-of-type {\n",
              "        vertical-align: middle;\n",
              "    }\n",
              "\n",
              "    .dataframe tbody tr th {\n",
              "        vertical-align: top;\n",
              "    }\n",
              "\n",
              "    .dataframe thead th {\n",
              "        text-align: right;\n",
              "    }\n",
              "</style>\n",
              "<table border=\"1\" class=\"dataframe\">\n",
              "  <thead>\n",
              "    <tr style=\"text-align: right;\">\n",
              "      <th></th>\n",
              "      <th>stimulus</th>\n",
              "      <th>bias</th>\n",
              "      <th>prior_correction</th>\n",
              "      <th>bias_prior_corrected</th>\n",
              "    </tr>\n",
              "  </thead>\n",
              "  <tbody>\n",
              "    <tr>\n",
              "      <th>0</th>\n",
              "      <td>help</td>\n",
              "      <td>-0.319322</td>\n",
              "      <td>0.294753</td>\n",
              "      <td>-0.614074</td>\n",
              "    </tr>\n",
              "    <tr>\n",
              "      <th>1</th>\n",
              "      <td>good</td>\n",
              "      <td>-0.159975</td>\n",
              "      <td>0.294753</td>\n",
              "      <td>-0.454728</td>\n",
              "    </tr>\n",
              "    <tr>\n",
              "      <th>2</th>\n",
              "      <td>started</td>\n",
              "      <td>0.226320</td>\n",
              "      <td>0.294753</td>\n",
              "      <td>-0.068433</td>\n",
              "    </tr>\n",
              "    <tr>\n",
              "      <th>3</th>\n",
              "      <td>well</td>\n",
              "      <td>-0.191389</td>\n",
              "      <td>0.294753</td>\n",
              "      <td>-0.486142</td>\n",
              "    </tr>\n",
              "    <tr>\n",
              "      <th>4</th>\n",
              "      <td>able</td>\n",
              "      <td>0.090212</td>\n",
              "      <td>0.294753</td>\n",
              "      <td>-0.204540</td>\n",
              "    </tr>\n",
              "    <tr>\n",
              "      <th>5</th>\n",
              "      <td>made</td>\n",
              "      <td>-0.326633</td>\n",
              "      <td>0.294753</td>\n",
              "      <td>-0.621386</td>\n",
              "    </tr>\n",
              "    <tr>\n",
              "      <th>6</th>\n",
              "      <td>together</td>\n",
              "      <td>-0.193437</td>\n",
              "      <td>0.294753</td>\n",
              "      <td>-0.488190</td>\n",
              "    </tr>\n",
              "    <tr>\n",
              "      <th>7</th>\n",
              "      <td>thank</td>\n",
              "      <td>0.052191</td>\n",
              "      <td>0.294753</td>\n",
              "      <td>-0.242562</td>\n",
              "    </tr>\n",
              "    <tr>\n",
              "      <th>8</th>\n",
              "      <td>went</td>\n",
              "      <td>0.105725</td>\n",
              "      <td>0.294753</td>\n",
              "      <td>-0.189028</td>\n",
              "    </tr>\n",
              "    <tr>\n",
              "      <th>9</th>\n",
              "      <td>make</td>\n",
              "      <td>-0.040059</td>\n",
              "      <td>0.294753</td>\n",
              "      <td>-0.334812</td>\n",
              "    </tr>\n",
              "    <tr>\n",
              "      <th>10</th>\n",
              "      <td>found</td>\n",
              "      <td>-0.177995</td>\n",
              "      <td>0.294753</td>\n",
              "      <td>-0.472748</td>\n",
              "    </tr>\n",
              "    <tr>\n",
              "      <th>11</th>\n",
              "      <td>best</td>\n",
              "      <td>-0.504957</td>\n",
              "      <td>0.294753</td>\n",
              "      <td>-0.799709</td>\n",
              "    </tr>\n",
              "    <tr>\n",
              "      <th>12</th>\n",
              "      <td>relationship</td>\n",
              "      <td>-0.037723</td>\n",
              "      <td>0.294753</td>\n",
              "      <td>-0.332475</td>\n",
              "    </tr>\n",
              "    <tr>\n",
              "      <th>13</th>\n",
              "      <td>work</td>\n",
              "      <td>-0.139640</td>\n",
              "      <td>0.294753</td>\n",
              "      <td>-0.434392</td>\n",
              "    </tr>\n",
              "    <tr>\n",
              "      <th>14</th>\n",
              "      <td>friend</td>\n",
              "      <td>0.083205</td>\n",
              "      <td>0.294753</td>\n",
              "      <td>-0.211547</td>\n",
              "    </tr>\n",
              "    <tr>\n",
              "      <th>15</th>\n",
              "      <td>used</td>\n",
              "      <td>-0.331181</td>\n",
              "      <td>0.294753</td>\n",
              "      <td>-0.625934</td>\n",
              "    </tr>\n",
              "    <tr>\n",
              "      <th>16</th>\n",
              "      <td>first</td>\n",
              "      <td>0.166545</td>\n",
              "      <td>0.294753</td>\n",
              "      <td>-0.128208</td>\n",
              "    </tr>\n",
              "    <tr>\n",
              "      <th>17</th>\n",
              "      <td>another</td>\n",
              "      <td>0.342326</td>\n",
              "      <td>0.294753</td>\n",
              "      <td>0.047573</td>\n",
              "    </tr>\n",
              "    <tr>\n",
              "      <th>18</th>\n",
              "      <td>helped</td>\n",
              "      <td>0.086931</td>\n",
              "      <td>0.294753</td>\n",
              "      <td>-0.207822</td>\n",
              "    </tr>\n",
              "    <tr>\n",
              "      <th>19</th>\n",
              "      <td>life</td>\n",
              "      <td>0.079443</td>\n",
              "      <td>0.294753</td>\n",
              "      <td>-0.215310</td>\n",
              "    </tr>\n",
              "  </tbody>\n",
              "</table>\n",
              "</div>\n",
              "      <button class=\"colab-df-convert\" onclick=\"convertToInteractive('df-2d5a0a88-b244-486b-85c7-a7c7997396f6')\"\n",
              "              title=\"Convert this dataframe to an interactive table.\"\n",
              "              style=\"display:none;\">\n",
              "        \n",
              "  <svg xmlns=\"http://www.w3.org/2000/svg\" height=\"24px\"viewBox=\"0 0 24 24\"\n",
              "       width=\"24px\">\n",
              "    <path d=\"M0 0h24v24H0V0z\" fill=\"none\"/>\n",
              "    <path d=\"M18.56 5.44l.94 2.06.94-2.06 2.06-.94-2.06-.94-.94-2.06-.94 2.06-2.06.94zm-11 1L8.5 8.5l.94-2.06 2.06-.94-2.06-.94L8.5 2.5l-.94 2.06-2.06.94zm10 10l.94 2.06.94-2.06 2.06-.94-2.06-.94-.94-2.06-.94 2.06-2.06.94z\"/><path d=\"M17.41 7.96l-1.37-1.37c-.4-.4-.92-.59-1.43-.59-.52 0-1.04.2-1.43.59L10.3 9.45l-7.72 7.72c-.78.78-.78 2.05 0 2.83L4 21.41c.39.39.9.59 1.41.59.51 0 1.02-.2 1.41-.59l7.78-7.78 2.81-2.81c.8-.78.8-2.07 0-2.86zM5.41 20L4 18.59l7.72-7.72 1.47 1.35L5.41 20z\"/>\n",
              "  </svg>\n",
              "      </button>\n",
              "      \n",
              "  <style>\n",
              "    .colab-df-container {\n",
              "      display:flex;\n",
              "      flex-wrap:wrap;\n",
              "      gap: 12px;\n",
              "    }\n",
              "\n",
              "    .colab-df-convert {\n",
              "      background-color: #E8F0FE;\n",
              "      border: none;\n",
              "      border-radius: 50%;\n",
              "      cursor: pointer;\n",
              "      display: none;\n",
              "      fill: #1967D2;\n",
              "      height: 32px;\n",
              "      padding: 0 0 0 0;\n",
              "      width: 32px;\n",
              "    }\n",
              "\n",
              "    .colab-df-convert:hover {\n",
              "      background-color: #E2EBFA;\n",
              "      box-shadow: 0px 1px 2px rgba(60, 64, 67, 0.3), 0px 1px 3px 1px rgba(60, 64, 67, 0.15);\n",
              "      fill: #174EA6;\n",
              "    }\n",
              "\n",
              "    [theme=dark] .colab-df-convert {\n",
              "      background-color: #3B4455;\n",
              "      fill: #D2E3FC;\n",
              "    }\n",
              "\n",
              "    [theme=dark] .colab-df-convert:hover {\n",
              "      background-color: #434B5C;\n",
              "      box-shadow: 0px 1px 3px 1px rgba(0, 0, 0, 0.15);\n",
              "      filter: drop-shadow(0px 1px 2px rgba(0, 0, 0, 0.3));\n",
              "      fill: #FFFFFF;\n",
              "    }\n",
              "  </style>\n",
              "\n",
              "      <script>\n",
              "        const buttonEl =\n",
              "          document.querySelector('#df-2d5a0a88-b244-486b-85c7-a7c7997396f6 button.colab-df-convert');\n",
              "        buttonEl.style.display =\n",
              "          google.colab.kernel.accessAllowed ? 'block' : 'none';\n",
              "\n",
              "        async function convertToInteractive(key) {\n",
              "          const element = document.querySelector('#df-2d5a0a88-b244-486b-85c7-a7c7997396f6');\n",
              "          const dataTable =\n",
              "            await google.colab.kernel.invokeFunction('convertToInteractive',\n",
              "                                                     [key], {});\n",
              "          if (!dataTable) return;\n",
              "\n",
              "          const docLinkHtml = 'Like what you see? Visit the ' +\n",
              "            '<a target=\"_blank\" href=https://colab.research.google.com/notebooks/data_table.ipynb>data table notebook</a>'\n",
              "            + ' to learn more about interactive tables.';\n",
              "          element.innerHTML = '';\n",
              "          dataTable['output_type'] = 'display_data';\n",
              "          await google.colab.output.renderOutput(dataTable, element);\n",
              "          const docLink = document.createElement('div');\n",
              "          docLink.innerHTML = docLinkHtml;\n",
              "          element.appendChild(docLink);\n",
              "        }\n",
              "      </script>\n",
              "    </div>\n",
              "  </div>\n",
              "  "
            ]
          },
          "metadata": {},
          "execution_count": 24
        }
      ]
    },
    {
      "cell_type": "code",
      "source": [
        "df2[\"bias_prior_corrected\"].mean()"
      ],
      "metadata": {
        "colab": {
          "base_uri": "https://localhost:8080/"
        },
        "id": "n5_Qiu5_rLFR",
        "outputId": "9ef152a0-376f-4d60-f6cb-798c5898ea7e"
      },
      "execution_count": null,
      "outputs": [
        {
          "output_type": "execute_result",
          "data": {
            "text/plain": [
              "-0.15399659529319856"
            ]
          },
          "metadata": {},
          "execution_count": 25
        }
      ]
    },
    {
      "cell_type": "code",
      "source": [
        "bias_utils.get_effect_size(df1, df2)"
      ],
      "metadata": {
        "colab": {
          "base_uri": "https://localhost:8080/"
        },
        "id": "4lduRTsGrKok",
        "outputId": "157741c7-b4f9-4bde-a910-8906c57ee6ed"
      },
      "execution_count": null,
      "outputs": [
        {
          "output_type": "execute_result",
          "data": {
            "text/plain": [
              "0.41601162434616906"
            ]
          },
          "metadata": {},
          "execution_count": 26
        }
      ]
    },
    {
      "cell_type": "code",
      "source": [
        "ttest_ind(df1[\"bias_prior_corrected\"], df2[\"bias_prior_corrected\"])"
      ],
      "metadata": {
        "colab": {
          "base_uri": "https://localhost:8080/"
        },
        "id": "Wc01Xx4HtOQD",
        "outputId": "0c706be3-7d71-44a7-c1be-9ed08c86cbb9"
      },
      "execution_count": null,
      "outputs": [
        {
          "output_type": "execute_result",
          "data": {
            "text/plain": [
              "Ttest_indResult(statistic=2.320174525439556, pvalue=0.022049762070651367)"
            ]
          },
          "metadata": {},
          "execution_count": 27
        }
      ]
    },
    {
      "cell_type": "code",
      "source": [
        "ranksums(df1[\"bias_prior_corrected\"], df2[\"bias_prior_corrected\"])"
      ],
      "metadata": {
        "colab": {
          "base_uri": "https://localhost:8080/"
        },
        "id": "SdmFoaQYtONs",
        "outputId": "e528b4c9-4f60-4648-b988-4d5968edf851"
      },
      "execution_count": null,
      "outputs": [
        {
          "output_type": "execute_result",
          "data": {
            "text/plain": [
              "RanksumsResult(statistic=3.1754264805429417, pvalue=0.0014961642897455493)"
            ]
          },
          "metadata": {},
          "execution_count": 28
        }
      ]
    },
    {
      "cell_type": "code",
      "source": [
        "bias_utils.exact_mc_perm_test(df1[\"bias_prior_corrected\"], df2[\"bias_prior_corrected\"], )"
      ],
      "metadata": {
        "colab": {
          "base_uri": "https://localhost:8080/"
        },
        "id": "qMqA3R92tOK4",
        "outputId": "796580e2-727a-42ec-cb14-c474a3f78120"
      },
      "execution_count": null,
      "outputs": [
        {
          "output_type": "execute_result",
          "data": {
            "text/plain": [
              "0.02184"
            ]
          },
          "metadata": {},
          "execution_count": 29
        }
      ]
    },
    {
      "cell_type": "markdown",
      "source": [
        "Calculating WEAT metric for comparison"
      ],
      "metadata": {
        "id": "hhW5Js66rzU-"
      }
    },
    {
      "cell_type": "code",
      "source": [
        "wvs1 = [\n",
        "    bias_utils.get_word_vector(f\"[MASK] like {x}\", x) for x in stress_words\n",
        "] + [\n",
        "    bias_utils.get_word_vector(f\"[MASK] likes {x}\", x) for x in stress_words\n",
        "] + [\n",
        "    bias_utils.get_word_vector(f\"[MASK] is feeling {x}\", x) for x in stress_words\n",
        "]\n",
        "wvs2 = [\n",
        "    bias_utils.get_word_vector(f\"[MASK] like {x}\", x) for x in relaxed_words\n",
        "] + [\n",
        "    bias_utils.get_word_vector(f\"[MASK] likes {x}\", x) for x in relaxed_words    \n",
        "] + [\n",
        "    bias_utils.get_word_vector(f\"[MASK] is feeling {x}\", x) for x in relaxed_words\n",
        "]"
      ],
      "metadata": {
        "id": "v-fj3hm8r1rc"
      },
      "execution_count": null,
      "outputs": []
    },
    {
      "cell_type": "code",
      "source": [
        "wv_fm = bias_utils.get_word_vector(\"women like [MASK]\", \"women\")\n",
        "wv_fm2 = bias_utils.get_word_vector(\"she likes [MASK]\", \"she\")\n",
        "sims_fm1 = [bias_utils.cosine_similarity(wv_fm, wv) for wv in wvs1] +\\\n",
        "           [bias_utils.cosine_similarity(wv_fm2, wv) for wv in wvs1]\n",
        "sims_fm2 = [bias_utils.cosine_similarity(wv_fm, wv) for wv in wvs2] +\\\n",
        "           [bias_utils.cosine_similarity(wv_fm2, wv) for wv in wvs2]\n",
        "mean_diff = np.mean(sims_fm1) - np.mean(sims_fm2)\n",
        "std_ = np.std(sims_fm1 + sims_fm1)\n",
        "effect_sz_female_stress_relaxed = mean_diff / std_; effect_sz_female_stress_relaxed"
      ],
      "metadata": {
        "colab": {
          "base_uri": "https://localhost:8080/"
        },
        "id": "CwXCynirsI0g",
        "outputId": "6c11ef4d-152d-4536-9142-3dd01e24e654"
      },
      "execution_count": null,
      "outputs": [
        {
          "output_type": "execute_result",
          "data": {
            "text/plain": [
              "0.6244386"
            ]
          },
          "metadata": {},
          "execution_count": 53
        }
      ]
    },
    {
      "cell_type": "code",
      "source": [
        "wv_m = bias_utils.get_word_vector(\"men like [MASK]\", \"men\")\n",
        "wv_m2 = bias_utils.get_word_vector(\"he likes [MASK]\", \"he\")\n",
        "sims_m1 = [bias_utils.cosine_similarity(wv_m, wv) for wv in wvs1]+\\\n",
        "           [bias_utils.cosine_similarity(wv_m2, wv) for wv in wvs1]\n",
        "sims_m2 = [bias_utils.cosine_similarity(wv_m, wv) for wv in wvs2] +\\\n",
        "           [bias_utils.cosine_similarity(wv_m2, wv) for wv in wvs2]\n",
        "mean_diff = np.mean(sims_m1) - np.mean(sims_m2)\n",
        "std_ = np.std(sims_m1 + sims_m1)\n",
        "effect_sz_male_stress_relaxed = mean_diff / std_; effect_sz_male_stress_relaxed"
      ],
      "metadata": {
        "colab": {
          "base_uri": "https://localhost:8080/"
        },
        "id": "0ksh_SjSsZyf",
        "outputId": "22d0d162-21e4-411b-e919-4d29e8798cc2"
      },
      "execution_count": null,
      "outputs": [
        {
          "output_type": "execute_result",
          "data": {
            "text/plain": [
              "-0.072254725"
            ]
          },
          "metadata": {},
          "execution_count": 54
        }
      ]
    },
    {
      "cell_type": "code",
      "source": [
        "bias_utils.exact_mc_perm_test(sims_fm1, sims_m1)"
      ],
      "metadata": {
        "colab": {
          "base_uri": "https://localhost:8080/"
        },
        "id": "iRQUD4Zrsqgk",
        "outputId": "fcf8a581-575b-4f11-eb41-c6d458ed3983"
      },
      "execution_count": null,
      "outputs": [
        {
          "output_type": "execute_result",
          "data": {
            "text/plain": [
              "2e-05"
            ]
          },
          "metadata": {},
          "execution_count": 55
        }
      ]
    },
    {
      "cell_type": "code",
      "source": [
        "bias_utils.exact_mc_perm_test(sims_fm2, sims_m2)"
      ],
      "metadata": {
        "colab": {
          "base_uri": "https://localhost:8080/"
        },
        "id": "yf4EksUbswxY",
        "outputId": "9c0a1aae-21d1-463b-8693-124c2350ac3d"
      },
      "execution_count": null,
      "outputs": [
        {
          "output_type": "execute_result",
          "data": {
            "text/plain": [
              "0.69994"
            ]
          },
          "metadata": {},
          "execution_count": 58
        }
      ]
    },
    {
      "cell_type": "code",
      "source": [
        "ttest_ind(sims_fm1, sims_m1)"
      ],
      "metadata": {
        "colab": {
          "base_uri": "https://localhost:8080/"
        },
        "id": "KTkvjTKYs0Q5",
        "outputId": "9e8c4ec6-7b41-4898-bdc9-68a53a9df783"
      },
      "execution_count": null,
      "outputs": [
        {
          "output_type": "execute_result",
          "data": {
            "text/plain": [
              "Ttest_indResult(statistic=4.391573642296149, pvalue=1.6940074842264283e-05)"
            ]
          },
          "metadata": {},
          "execution_count": 59
        }
      ]
    },
    {
      "cell_type": "code",
      "source": [
        "ranksums(sims_fm1, sims_m1)"
      ],
      "metadata": {
        "colab": {
          "base_uri": "https://localhost:8080/"
        },
        "id": "DnFB5BHWuiVU",
        "outputId": "8591756a-6d61-4757-87dd-4d3da076f861"
      },
      "execution_count": null,
      "outputs": [
        {
          "output_type": "execute_result",
          "data": {
            "text/plain": [
              "RanksumsResult(statistic=4.235986578825402, pvalue=2.2755036903632495e-05)"
            ]
          },
          "metadata": {},
          "execution_count": 61
        }
      ]
    },
    {
      "cell_type": "code",
      "source": [
        "ttest_ind(sims_fm2, sims_m2)"
      ],
      "metadata": {
        "colab": {
          "base_uri": "https://localhost:8080/"
        },
        "id": "UZp9_ZtdudzL",
        "outputId": "39456394-9696-4c53-fc27-93e923ac7021"
      },
      "execution_count": null,
      "outputs": [
        {
          "output_type": "execute_result",
          "data": {
            "text/plain": [
              "Ttest_indResult(statistic=-0.38583028260432833, pvalue=0.6999670210228992)"
            ]
          },
          "metadata": {},
          "execution_count": 60
        }
      ]
    },
    {
      "cell_type": "code",
      "source": [
        "ranksums(sims_fm2, sims_m2)"
      ],
      "metadata": {
        "colab": {
          "base_uri": "https://localhost:8080/"
        },
        "id": "UsZij4SYui9F",
        "outputId": "239028c8-3c76-4afb-eb3a-afedb4d3a3bd"
      },
      "execution_count": null,
      "outputs": [
        {
          "output_type": "execute_result",
          "data": {
            "text/plain": [
              "RanksumsResult(statistic=-0.4834752021486412, pvalue=0.6287583630536298)"
            ]
          },
          "metadata": {},
          "execution_count": 62
        }
      ]
    }
  ],
  "metadata": {
    "kernelspec": {
      "display_name": "Python 3",
      "language": "python",
      "name": "python3"
    },
    "language_info": {
      "codemirror_mode": {
        "name": "ipython",
        "version": 3
      },
      "file_extension": ".py",
      "mimetype": "text/x-python",
      "name": "python",
      "nbconvert_exporter": "python",
      "pygments_lexer": "ipython3",
      "version": "3.6.7"
    },
    "colab": {
      "name": "gender_bias_in_stress_detection_model.ipynb",
      "provenance": [],
      "collapsed_sections": [],
      "toc_visible": true
    }
  },
  "nbformat": 4,
  "nbformat_minor": 0
}