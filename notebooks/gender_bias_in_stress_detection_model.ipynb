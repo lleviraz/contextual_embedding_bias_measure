{
  "cells": [
    {
      "cell_type": "markdown",
      "source": [
        "The original code and notebook is aligned with a legacy version allennlp==0.9.0 (and spacy) - the new versions have non backward compatible APIs and requiers a more significant refactoring."
      ],
      "metadata": {
        "id": "w5B66Csjb1ei"
      }
    },
    {
      "cell_type": "code",
      "source": [
        "!pip install allennlp==0.9.0 spacy==2.1.4 overrides==3.1.0 -q # nbclient==0.5.13 -q\n",
        "# !pip install allennlp==1.5.0 spacy overrides==3.1.0 -q"
      ],
      "metadata": {
        "id": "cslEPB4-OO3n"
      },
      "execution_count": 1,
      "outputs": []
    },
    {
      "cell_type": "code",
      "source": [
        "#warmup of spacy\n",
        "from allennlp.common.util import get_spacy_model\n",
        "try:\n",
        "  get_spacy_model(\"en\", pos_tags=False, parse=True, ner=False)\n",
        "except:\n",
        "  pass"
      ],
      "metadata": {
        "id": "NjDDM58bgdWq"
      },
      "execution_count": 2,
      "outputs": []
    },
    {
      "cell_type": "code",
      "source": [
        "# !rm -rf contextual_embedding_bias_measure/"
      ],
      "metadata": {
        "id": "1ONjKMcQgU4m"
      },
      "execution_count": 3,
      "outputs": []
    },
    {
      "cell_type": "code",
      "source": [
        "# !git clone https://github.com/keitakurita/contextual_embedding_bias_measure.git\n",
        "!git clone https://github.com/lleviraz/contextual_embedding_bias_measure.git\n",
        "!cp -rf contextual_embedding_bias_measure/lib/ ."
      ],
      "metadata": {
        "colab": {
          "base_uri": "https://localhost:8080/"
        },
        "id": "zWjiM8elQODJ",
        "outputId": "a99c9ec6-0352-45e4-c23b-5f450c83f9c8"
      },
      "execution_count": 4,
      "outputs": [
        {
          "output_type": "stream",
          "name": "stdout",
          "text": [
            "fatal: destination path 'contextual_embedding_bias_measure' already exists and is not an empty directory.\n"
          ]
        }
      ]
    },
    {
      "cell_type": "code",
      "execution_count": 5,
      "metadata": {
        "id": "AH5Dm5bmOJCZ"
      },
      "outputs": [],
      "source": [
        "%load_ext autoreload\n",
        "%autoreload 2"
      ]
    },
    {
      "cell_type": "code",
      "execution_count": 6,
      "metadata": {
        "id": "OyABPnimOJCd"
      },
      "outputs": [],
      "source": [
        "import sys\n",
        "sys.path.append(\"lib\")"
      ]
    },
    {
      "cell_type": "code",
      "execution_count": 7,
      "metadata": {
        "id": "B-hJ_SXtOJCc"
      },
      "outputs": [],
      "source": [
        "import torch\n",
        "import numpy as np\n",
        "import pandas as pd\n",
        "from typing import *\n",
        "from pathlib import Path\n",
        "from itertools import product\n",
        "import matplotlib.pyplot as plt\n",
        "from collections import defaultdict\n",
        "from scipy.stats import ttest_ind, ranksums\n",
        "from mlxtend.evaluate import permutation_test\n",
        "from bert_utils import Config, BertPreprocessor\n",
        "from bias_utils import BiasUtils\n",
        "%matplotlib inline"
      ]
    },
    {
      "cell_type": "code",
      "execution_count": 8,
      "metadata": {
        "id": "tCTojKhKOJCe"
      },
      "outputs": [],
      "source": [
        "config = Config(\n",
        "    model_type=\"bert-base-uncased\",\n",
        "    max_seq_len=128,\n",
        ")"
      ]
    },
    {
      "cell_type": "code",
      "execution_count": 9,
      "metadata": {
        "id": "8J0mYo8_OJCe"
      },
      "outputs": [],
      "source": [
        "processor = BertPreprocessor(config.model_type, config.max_seq_len)"
      ]
    },
    {
      "cell_type": "code",
      "execution_count": 10,
      "metadata": {
        "id": "T196ZoL3OJCf",
        "outputId": "cdd762db-3b0f-4628-fa1f-e659922876b3",
        "colab": {
          "base_uri": "https://localhost:8080/"
        }
      },
      "outputs": [
        {
          "output_type": "stream",
          "name": "stdout",
          "text": [
            "\n"
          ]
        }
      ],
      "source": [
        "from pytorch_pretrained_bert import BertConfig, BertForMaskedLM\n",
        "model = BertForMaskedLM.from_pretrained(config.model_type)\n",
        "model.eval() # Important! Disable dropout\n",
        "print()"
      ]
    },
    {
      "cell_type": "code",
      "source": [
        "bias_utils = BiasUtils(model,processor)"
      ],
      "metadata": {
        "id": "faHiZObE-FWd"
      },
      "execution_count": 11,
      "outputs": []
    },
    {
      "cell_type": "code",
      "execution_count": 12,
      "metadata": {
        "id": "NIIlaCfkOJCg"
      },
      "outputs": [],
      "source": [
        "# def get_logits(sentence: str) -> np.ndarray:\n",
        "#     return model(processor.to_bert_model_input(sentence))[0, :, :].cpu().detach().numpy()\n",
        "\n",
        "# def softmax(arr, axis=1):\n",
        "#     e = np.exp(arr)\n",
        "#     return e / e.sum(axis=axis, keepdims=True)\n",
        "\n",
        "# def get_mask_fill_logits(sentence: str, words: Iterable[str],\n",
        "#                          use_last_mask=False, apply_softmax=True) -> Dict[str, float]:\n",
        "#     mask_i = processor.get_index(sentence, \"[MASK]\", last=use_last_mask, accept_wordpiece=True)\n",
        "#     logits = defaultdict(list)\n",
        "#     out_logits = get_logits(sentence)\n",
        "#     if apply_softmax: \n",
        "#         out_logits = softmax(out_logits)\n",
        "#     return {w: out_logits[mask_i, processor.token_to_index(w, accept_wordpiece=True)] for w in words}\n",
        "\n",
        "# def bias_score(sentence: str, gender_words: Iterable[Iterable[str]], \n",
        "#                word: str, gender_comes_first=True) -> Dict[str, float]:\n",
        "#     \"\"\"\n",
        "#     Input a sentence of the form \"GGG is XXX\"\n",
        "#     XXX is a placeholder for the target word\n",
        "#     GGG is a placeholder for the gendered words (the subject)\n",
        "#     We will predict the bias when filling in the gendered words and \n",
        "#     filling in the target word.\n",
        "    \n",
        "#     gender_comes_first: GGG comes before XXX\n",
        "#     \"\"\"\n",
        "#     # e.g. probability of filling [MASK] with \"he\" vs. \"she\" when target is \"programmer\"\n",
        "#     mwords, fwords = gender_words\n",
        "#     all_words = mwords + fwords\n",
        "#     subject_fill_logits = get_mask_fill_logits(\n",
        "#         sentence.replace(\"XXX\", word).replace(\"GGG\", \"[MASK]\"), \n",
        "#         all_words, use_last_mask=not gender_comes_first,\n",
        "#     )\n",
        "#     subject_fill_bias = np.log(sum(subject_fill_logits[mw] for mw in mwords)) - \\\n",
        "#                         np.log(sum(subject_fill_logits[fw] for fw in fwords))\n",
        "#     # male words are simply more likely than female words\n",
        "#     # correct for this by masking the target word and measuring the prior probabilities\n",
        "#     subject_fill_prior_logits = get_mask_fill_logits(\n",
        "#         sentence.replace(\"XXX\", \"[MASK]\").replace(\"GGG\", \"[MASK]\"), \n",
        "#         all_words, use_last_mask=gender_comes_first,\n",
        "#     )\n",
        "#     subject_fill_bias_prior_correction = \\\n",
        "#             np.log(sum(subject_fill_prior_logits[mw] for mw in mwords)) - \\\n",
        "#             np.log(sum(subject_fill_prior_logits[fw] for fw in fwords))\n",
        "    \n",
        "#     return {\n",
        "#             \"stimulus\": word,\n",
        "#             \"bias\": subject_fill_bias,\n",
        "#             \"prior_correction\": subject_fill_bias_prior_correction,\n",
        "#             \"bias_prior_corrected\": subject_fill_bias - subject_fill_bias_prior_correction,\n",
        "#            }"
      ]
    },
    {
      "cell_type": "code",
      "execution_count": 13,
      "metadata": {
        "id": "9TWK07VQOJCi",
        "outputId": "086c18d7-5bee-4514-f2f1-935727d2a5a4",
        "colab": {
          "base_uri": "https://localhost:8080/"
        }
      },
      "outputs": [
        {
          "output_type": "execute_result",
          "data": {
            "text/plain": [
              "{'bug': 1.0748338e-05, 'flower': 0.00074180553}"
            ]
          },
          "metadata": {},
          "execution_count": 13
        }
      ],
      "source": [
        "bias_utils.get_mask_fill_logits(\"the [MASK] is beautiful\", [\"flower\", \"bug\"])"
      ]
    },
    {
      "cell_type": "code",
      "execution_count": 14,
      "metadata": {
        "id": "axhwbdzbOJCj"
      },
      "outputs": [],
      "source": [
        "# def get_word_vector(sentence: str, word: str):\n",
        "#     idx = processor.get_index(sentence, word, accept_wordpiece=True)\n",
        "#     outputs = None\n",
        "#     with torch.no_grad():\n",
        "#         sequence_output, _ = model.bert(processor.to_bert_model_input(sentence),\n",
        "#                                         output_all_encoded_layers=False)\n",
        "#         sequence_output.squeeze_(0)\n",
        "#     return sequence_output.detach().cpu().numpy()[idx]"
      ]
    },
    {
      "cell_type": "code",
      "execution_count": 15,
      "metadata": {
        "id": "nExHEOEcOJCj"
      },
      "outputs": [],
      "source": [
        "# def cosine_similarity(x, y):\n",
        "#     return np.dot(x, y) / (np.linalg.norm(x) * np.linalg.norm(y))"
      ]
    },
    {
      "cell_type": "code",
      "execution_count": 16,
      "metadata": {
        "id": "lwvChiidOJCk"
      },
      "outputs": [],
      "source": [
        "# def get_effect_size(df1, df2, k=\"bias_prior_corrected\"):\n",
        "#     diff = (df1[k].mean() - df2[k].mean())\n",
        "#     std_ = pd.concat([df1, df2], axis=0)[k].std() + 1e-8\n",
        "#     return diff / std_"
      ]
    },
    {
      "cell_type": "code",
      "execution_count": 17,
      "metadata": {
        "id": "V-AhC5QPOJCk"
      },
      "outputs": [],
      "source": [
        "# def exact_mc_perm_test(xs, ys, nmc=100000):\n",
        "#     n, k = len(xs), 0\n",
        "#     diff = np.abs(np.mean(xs) - np.mean(ys))\n",
        "#     zs = np.concatenate([xs, ys])\n",
        "#     for j in range(nmc):\n",
        "#         np.random.shuffle(zs)\n",
        "#         k += diff < np.abs(np.mean(zs[:n]) - np.mean(zs[n:]))\n",
        "#     return k / nmc"
      ]
    },
    {
      "cell_type": "code",
      "execution_count": 18,
      "metadata": {
        "id": "U5BWWKNOOJCk",
        "outputId": "685a6d56-b7d6-427e-82b8-581e7608320e",
        "colab": {
          "base_uri": "https://localhost:8080/"
        }
      },
      "outputs": [
        {
          "output_type": "execute_result",
          "data": {
            "text/plain": [
              "(768,)"
            ]
          },
          "metadata": {},
          "execution_count": 18
        }
      ],
      "source": [
        "#sentence in index:706 from dreaddit train set\n",
        "bias_utils.get_word_vector(\"daughter father abusive first however became left found two weeks later pregnant course begged pleaded second chance believed \", \"abusive\").shape"
      ]
    },
    {
      "cell_type": "code",
      "execution_count": 19,
      "metadata": {
        "id": "CLtSbWt4OJCl"
      },
      "outputs": [],
      "source": [
        "rev_vocab = {v:k for k, v in processor.full_vocab.items()}"
      ]
    },
    {
      "cell_type": "code",
      "execution_count": 20,
      "metadata": {
        "id": "-ZjbgJGwOJCn"
      },
      "outputs": [],
      "source": [
        "def to_words(wlist, filter_oov=True):\n",
        "    return [w.strip() for w in wlist.lower().replace(\"\\n\", \" \").split(\", \") if w.strip() in rev_vocab or not filter_oov]"
      ]
    },
    {
      "cell_type": "markdown",
      "source": [
        "# Stress vs. Relaxed"
      ],
      "metadata": {
        "id": "KRARp4zbnqCn"
      }
    },
    {
      "cell_type": "code",
      "source": [
        "k=20\n",
        "female_words = list({'girl': 1.0, 'lot': 0.9322033898305084, 'mom': 0.9152542372881356, 'even': 0.8898305084745762, 'never': 0.8559322033898306, 'feel': 0.8220338983050848, 'much': 0.7796610169491526, 'mother': 0.7288135593220338, 'need': 0.7033898305084746, 'going': 0.6779661016949152, 'still': 0.5677966101694916, 'help': 0.5338983050847458, 'take': 0.5254237288135594, 'went': 0.5, 'back': 0.4915254237288136, 'make': 0.4830508474576271, 'well': 0.4745762711864407, 'point': 0.4661016949152542, 'p': 0.4576271186440678, 'woman': 0.4322033898305085, 'able': 0.423728813559322, 'wife': 0.423728813559322, 'times': 0.4152542372881356, 'sister': 0.4152542372881356, 'work': 0.4067796610169492}.keys())[:k]\n",
        "male_words = list({'friend': 1.0, 'people': 0.6820809248554913, 'guy': 0.5260115606936416, 'family': 0.3786127167630058, 'person': 0.34971098265895956, 'love': 0.32947976878612717, 'good': 0.3092485549132948, 'life': 0.2976878612716763, 'someone': 0.28034682080924855, 'help': 0.2745664739884393, 'boyfriend': 0.2658959537572254, 'relationship': 0.2658959537572254, 'work': 0.23699421965317918, 'brother': 0.23121387283236994, 'anyone': 0.23121387283236994, 'man': 0.22832369942196531, 'dad': 0.22832369942196531, 'thought': 0.2254335260115607, 'old': 0.22254335260115607, 'kid': 0.2138728323699422, 'feel': 0.20809248554913296, 'father': 0.20809248554913296, 'new': 0.1994219653179191, 'thank': 0.1936416184971098, 'parent': 0.1936416184971098}.keys())[:k]\n",
        "stress_words = list({'feel': 1.0, 'anxiety': 0.46534653465346537, 'feeling': 0.36386138613861385, 'trying': 0.349009900990099, 'bad': 0.3217821782178218, 'abuse': 0.297029702970297, 'hate': 0.2376237623762376, 'fear': 0.21534653465346534, 'need': 0.19306930693069307, 'someone': 0.1905940594059406, 'fucking': 0.1782178217821782, 'scared': 0.17574257425742573, 'us': 0.17574257425742573, 'panic': 0.17326732673267325, 'boyfriend': 0.16831683168316833, 'think': 0.16831683168316833, 'problem': 0.16584158415841585, 'attack': 0.16336633663366337, 'worse': 0.15594059405940594, 'anyone': 0.1485148514851485, 'angry': 0.14603960396039603, 'afraid': 0.14603960396039603, 'wrong': 0.14356435643564355, 'abusive': 0.14108910891089108, 'pain': 0.13861386138613863}.keys())[:k]\n",
        "relaxed_words = list({'help': 1.0, 'good': 0.9748743718592965, 'started': 0.7135678391959799, 'well': 0.6834170854271356, 'able': 0.5376884422110553, 'made': 0.5276381909547738, 'together': 0.49246231155778897, 'thank': 0.48743718592964824, 'went': 0.4723618090452261, 'make': 0.3869346733668342, 'found': 0.3768844221105528, 'best': 0.37185929648241206, 'relationship': 0.35175879396984927, 'work': 0.34673366834170855, 'friend': 0.33668341708542715, 'used': 0.32663316582914576, 'first': 0.32160804020100503, 'another': 0.32160804020100503, 'helped': 0.32160804020100503, 'life': 0.3065326633165829, 'new': 0.3015075376884422, 'told': 0.3015075376884422, 'took': 0.2864321608040201, 'decided': 0.2814070351758794, 'though': 0.2814070351758794}.keys())[:k]"
      ],
      "metadata": {
        "id": "03uJGCUXmsNX"
      },
      "execution_count": 21,
      "outputs": []
    },
    {
      "cell_type": "code",
      "source": [
        "# def list_2_str(list):\n",
        "#   return [','.join(list)]\n",
        "\n",
        "for l in [female_words,male_words,stress_words,relaxed_words]:\n",
        "  # print(list_2_str(l))\n",
        "  print(l)\n"
      ],
      "metadata": {
        "colab": {
          "base_uri": "https://localhost:8080/"
        },
        "id": "jWF6cLuTnGu9",
        "outputId": "1aacc17f-3973-4d8d-b5c7-ea8734b14989"
      },
      "execution_count": 22,
      "outputs": [
        {
          "output_type": "stream",
          "name": "stdout",
          "text": [
            "['girl', 'lot', 'mom', 'even', 'never', 'feel', 'much', 'mother', 'need', 'going', 'still', 'help', 'take', 'went', 'back', 'make', 'well', 'point', 'p', 'woman']\n",
            "['friend', 'people', 'guy', 'family', 'person', 'love', 'good', 'life', 'someone', 'help', 'boyfriend', 'relationship', 'work', 'brother', 'anyone', 'man', 'dad', 'thought', 'old', 'kid']\n",
            "['feel', 'anxiety', 'feeling', 'trying', 'bad', 'abuse', 'hate', 'fear', 'need', 'someone', 'fucking', 'scared', 'us', 'panic', 'boyfriend', 'think', 'problem', 'attack', 'worse', 'anyone']\n",
            "['help', 'good', 'started', 'well', 'able', 'made', 'together', 'thank', 'went', 'make', 'found', 'best', 'relationship', 'work', 'friend', 'used', 'first', 'another', 'helped', 'life']\n"
          ]
        }
      ]
    },
    {
      "cell_type": "code",
      "source": [
        "male_words = to_words(\"he, man, father, boy, brother\")\n",
        "female_words = to_words(\"she, woman, mother, girl, sister\")\n",
        "male_plural_words = to_words(\"boys, men, fathers, brothers\")\n",
        "female_plural_words = to_words(\"girls, women, mothers, sisters\")\n"
      ],
      "metadata": {
        "id": "cJYM119rnqYA"
      },
      "execution_count": 23,
      "outputs": []
    },
    {
      "cell_type": "markdown",
      "source": [
        "Since male words are simply more likely than female words, the code `bias_score` includes corrections for this by masking the target word and measuring the prior probabilities"
      ],
      "metadata": {
        "id": "hZw8Ux343UWL"
      }
    },
    {
      "cell_type": "code",
      "source": [
        "def calc_bias_for_topic(topic_words_list):\n",
        "  df1 = pd.concat([\n",
        "      pd.DataFrame([bias_utils.bias_score(\"GGG likes XXX.\", [male_words, female_words], w) for w in topic_words_list]),\n",
        "      pd.DataFrame([bias_utils.bias_score(\"GGG like XXX.\", [male_plural_words, female_plural_words], w) for w in topic_words_list]),\n",
        "      # pd.DataFrame([bias_utils.bias_score(\"GGG is interested in XXX.\", [male_words, female_words], w) for w in topic_words_list])\n",
        "      pd.DataFrame([bias_utils.bias_score(\"GGG is feeling XXX.\", [male_words, female_words], w) for w in topic_words_list])\n",
        "  ])\n",
        "  return df1"
      ],
      "metadata": {
        "id": "4gOdrF9truz9"
      },
      "execution_count": 24,
      "outputs": []
    },
    {
      "cell_type": "code",
      "source": [
        "df1 = calc_bias_for_topic(stress_words)\n",
        "df1[-k:]"
      ],
      "metadata": {
        "colab": {
          "base_uri": "https://localhost:8080/",
          "height": 676
        },
        "id": "qWKuNIa4o4Gx",
        "outputId": "6f768372-7808-44d3-a133-55510f8b5edf"
      },
      "execution_count": 25,
      "outputs": [
        {
          "output_type": "execute_result",
          "data": {
            "text/plain": [
              "     stimulus      bias  prior_correction  bias_prior_corrected\n",
              "0        feel  0.470788          0.294753              0.176036\n",
              "1     anxiety  0.021616          0.294753             -0.273137\n",
              "2     feeling  0.614186          0.294753              0.319434\n",
              "3      trying  0.065343          0.294753             -0.229410\n",
              "4         bad -0.168169          0.294753             -0.462921\n",
              "5       abuse -0.294708          0.294753             -0.589460\n",
              "6        hate  0.268701          0.294753             -0.026052\n",
              "7        fear  0.201475          0.294753             -0.093278\n",
              "8        need  0.182734          0.294753             -0.112018\n",
              "9     someone  0.074385          0.294753             -0.220367\n",
              "10    fucking  0.253870          0.294753             -0.040883\n",
              "11     scared -0.309957          0.294753             -0.604709\n",
              "12         us  0.338851          0.294753              0.044098\n",
              "13      panic  0.037946          0.294753             -0.256807\n",
              "14  boyfriend -0.066200          0.294753             -0.360953\n",
              "15      think  0.299020          0.294753              0.004267\n",
              "16    problem  0.024874          0.294753             -0.269879\n",
              "17     attack  0.402502          0.294753              0.107750\n",
              "18      worse -0.009712          0.294753             -0.304465\n",
              "19     anyone  0.319859          0.294753              0.025106"
            ],
            "text/html": [
              "\n",
              "  <div id=\"df-14a434ac-88cd-4762-a916-0c437f6f4867\">\n",
              "    <div class=\"colab-df-container\">\n",
              "      <div>\n",
              "<style scoped>\n",
              "    .dataframe tbody tr th:only-of-type {\n",
              "        vertical-align: middle;\n",
              "    }\n",
              "\n",
              "    .dataframe tbody tr th {\n",
              "        vertical-align: top;\n",
              "    }\n",
              "\n",
              "    .dataframe thead th {\n",
              "        text-align: right;\n",
              "    }\n",
              "</style>\n",
              "<table border=\"1\" class=\"dataframe\">\n",
              "  <thead>\n",
              "    <tr style=\"text-align: right;\">\n",
              "      <th></th>\n",
              "      <th>stimulus</th>\n",
              "      <th>bias</th>\n",
              "      <th>prior_correction</th>\n",
              "      <th>bias_prior_corrected</th>\n",
              "    </tr>\n",
              "  </thead>\n",
              "  <tbody>\n",
              "    <tr>\n",
              "      <th>0</th>\n",
              "      <td>feel</td>\n",
              "      <td>0.470788</td>\n",
              "      <td>0.294753</td>\n",
              "      <td>0.176036</td>\n",
              "    </tr>\n",
              "    <tr>\n",
              "      <th>1</th>\n",
              "      <td>anxiety</td>\n",
              "      <td>0.021616</td>\n",
              "      <td>0.294753</td>\n",
              "      <td>-0.273137</td>\n",
              "    </tr>\n",
              "    <tr>\n",
              "      <th>2</th>\n",
              "      <td>feeling</td>\n",
              "      <td>0.614186</td>\n",
              "      <td>0.294753</td>\n",
              "      <td>0.319434</td>\n",
              "    </tr>\n",
              "    <tr>\n",
              "      <th>3</th>\n",
              "      <td>trying</td>\n",
              "      <td>0.065343</td>\n",
              "      <td>0.294753</td>\n",
              "      <td>-0.229410</td>\n",
              "    </tr>\n",
              "    <tr>\n",
              "      <th>4</th>\n",
              "      <td>bad</td>\n",
              "      <td>-0.168169</td>\n",
              "      <td>0.294753</td>\n",
              "      <td>-0.462921</td>\n",
              "    </tr>\n",
              "    <tr>\n",
              "      <th>5</th>\n",
              "      <td>abuse</td>\n",
              "      <td>-0.294708</td>\n",
              "      <td>0.294753</td>\n",
              "      <td>-0.589460</td>\n",
              "    </tr>\n",
              "    <tr>\n",
              "      <th>6</th>\n",
              "      <td>hate</td>\n",
              "      <td>0.268701</td>\n",
              "      <td>0.294753</td>\n",
              "      <td>-0.026052</td>\n",
              "    </tr>\n",
              "    <tr>\n",
              "      <th>7</th>\n",
              "      <td>fear</td>\n",
              "      <td>0.201475</td>\n",
              "      <td>0.294753</td>\n",
              "      <td>-0.093278</td>\n",
              "    </tr>\n",
              "    <tr>\n",
              "      <th>8</th>\n",
              "      <td>need</td>\n",
              "      <td>0.182734</td>\n",
              "      <td>0.294753</td>\n",
              "      <td>-0.112018</td>\n",
              "    </tr>\n",
              "    <tr>\n",
              "      <th>9</th>\n",
              "      <td>someone</td>\n",
              "      <td>0.074385</td>\n",
              "      <td>0.294753</td>\n",
              "      <td>-0.220367</td>\n",
              "    </tr>\n",
              "    <tr>\n",
              "      <th>10</th>\n",
              "      <td>fucking</td>\n",
              "      <td>0.253870</td>\n",
              "      <td>0.294753</td>\n",
              "      <td>-0.040883</td>\n",
              "    </tr>\n",
              "    <tr>\n",
              "      <th>11</th>\n",
              "      <td>scared</td>\n",
              "      <td>-0.309957</td>\n",
              "      <td>0.294753</td>\n",
              "      <td>-0.604709</td>\n",
              "    </tr>\n",
              "    <tr>\n",
              "      <th>12</th>\n",
              "      <td>us</td>\n",
              "      <td>0.338851</td>\n",
              "      <td>0.294753</td>\n",
              "      <td>0.044098</td>\n",
              "    </tr>\n",
              "    <tr>\n",
              "      <th>13</th>\n",
              "      <td>panic</td>\n",
              "      <td>0.037946</td>\n",
              "      <td>0.294753</td>\n",
              "      <td>-0.256807</td>\n",
              "    </tr>\n",
              "    <tr>\n",
              "      <th>14</th>\n",
              "      <td>boyfriend</td>\n",
              "      <td>-0.066200</td>\n",
              "      <td>0.294753</td>\n",
              "      <td>-0.360953</td>\n",
              "    </tr>\n",
              "    <tr>\n",
              "      <th>15</th>\n",
              "      <td>think</td>\n",
              "      <td>0.299020</td>\n",
              "      <td>0.294753</td>\n",
              "      <td>0.004267</td>\n",
              "    </tr>\n",
              "    <tr>\n",
              "      <th>16</th>\n",
              "      <td>problem</td>\n",
              "      <td>0.024874</td>\n",
              "      <td>0.294753</td>\n",
              "      <td>-0.269879</td>\n",
              "    </tr>\n",
              "    <tr>\n",
              "      <th>17</th>\n",
              "      <td>attack</td>\n",
              "      <td>0.402502</td>\n",
              "      <td>0.294753</td>\n",
              "      <td>0.107750</td>\n",
              "    </tr>\n",
              "    <tr>\n",
              "      <th>18</th>\n",
              "      <td>worse</td>\n",
              "      <td>-0.009712</td>\n",
              "      <td>0.294753</td>\n",
              "      <td>-0.304465</td>\n",
              "    </tr>\n",
              "    <tr>\n",
              "      <th>19</th>\n",
              "      <td>anyone</td>\n",
              "      <td>0.319859</td>\n",
              "      <td>0.294753</td>\n",
              "      <td>0.025106</td>\n",
              "    </tr>\n",
              "  </tbody>\n",
              "</table>\n",
              "</div>\n",
              "      <button class=\"colab-df-convert\" onclick=\"convertToInteractive('df-14a434ac-88cd-4762-a916-0c437f6f4867')\"\n",
              "              title=\"Convert this dataframe to an interactive table.\"\n",
              "              style=\"display:none;\">\n",
              "        \n",
              "  <svg xmlns=\"http://www.w3.org/2000/svg\" height=\"24px\"viewBox=\"0 0 24 24\"\n",
              "       width=\"24px\">\n",
              "    <path d=\"M0 0h24v24H0V0z\" fill=\"none\"/>\n",
              "    <path d=\"M18.56 5.44l.94 2.06.94-2.06 2.06-.94-2.06-.94-.94-2.06-.94 2.06-2.06.94zm-11 1L8.5 8.5l.94-2.06 2.06-.94-2.06-.94L8.5 2.5l-.94 2.06-2.06.94zm10 10l.94 2.06.94-2.06 2.06-.94-2.06-.94-.94-2.06-.94 2.06-2.06.94z\"/><path d=\"M17.41 7.96l-1.37-1.37c-.4-.4-.92-.59-1.43-.59-.52 0-1.04.2-1.43.59L10.3 9.45l-7.72 7.72c-.78.78-.78 2.05 0 2.83L4 21.41c.39.39.9.59 1.41.59.51 0 1.02-.2 1.41-.59l7.78-7.78 2.81-2.81c.8-.78.8-2.07 0-2.86zM5.41 20L4 18.59l7.72-7.72 1.47 1.35L5.41 20z\"/>\n",
              "  </svg>\n",
              "      </button>\n",
              "      \n",
              "  <style>\n",
              "    .colab-df-container {\n",
              "      display:flex;\n",
              "      flex-wrap:wrap;\n",
              "      gap: 12px;\n",
              "    }\n",
              "\n",
              "    .colab-df-convert {\n",
              "      background-color: #E8F0FE;\n",
              "      border: none;\n",
              "      border-radius: 50%;\n",
              "      cursor: pointer;\n",
              "      display: none;\n",
              "      fill: #1967D2;\n",
              "      height: 32px;\n",
              "      padding: 0 0 0 0;\n",
              "      width: 32px;\n",
              "    }\n",
              "\n",
              "    .colab-df-convert:hover {\n",
              "      background-color: #E2EBFA;\n",
              "      box-shadow: 0px 1px 2px rgba(60, 64, 67, 0.3), 0px 1px 3px 1px rgba(60, 64, 67, 0.15);\n",
              "      fill: #174EA6;\n",
              "    }\n",
              "\n",
              "    [theme=dark] .colab-df-convert {\n",
              "      background-color: #3B4455;\n",
              "      fill: #D2E3FC;\n",
              "    }\n",
              "\n",
              "    [theme=dark] .colab-df-convert:hover {\n",
              "      background-color: #434B5C;\n",
              "      box-shadow: 0px 1px 3px 1px rgba(0, 0, 0, 0.15);\n",
              "      filter: drop-shadow(0px 1px 2px rgba(0, 0, 0, 0.3));\n",
              "      fill: #FFFFFF;\n",
              "    }\n",
              "  </style>\n",
              "\n",
              "      <script>\n",
              "        const buttonEl =\n",
              "          document.querySelector('#df-14a434ac-88cd-4762-a916-0c437f6f4867 button.colab-df-convert');\n",
              "        buttonEl.style.display =\n",
              "          google.colab.kernel.accessAllowed ? 'block' : 'none';\n",
              "\n",
              "        async function convertToInteractive(key) {\n",
              "          const element = document.querySelector('#df-14a434ac-88cd-4762-a916-0c437f6f4867');\n",
              "          const dataTable =\n",
              "            await google.colab.kernel.invokeFunction('convertToInteractive',\n",
              "                                                     [key], {});\n",
              "          if (!dataTable) return;\n",
              "\n",
              "          const docLinkHtml = 'Like what you see? Visit the ' +\n",
              "            '<a target=\"_blank\" href=https://colab.research.google.com/notebooks/data_table.ipynb>data table notebook</a>'\n",
              "            + ' to learn more about interactive tables.';\n",
              "          element.innerHTML = '';\n",
              "          dataTable['output_type'] = 'display_data';\n",
              "          await google.colab.output.renderOutput(dataTable, element);\n",
              "          const docLink = document.createElement('div');\n",
              "          docLink.innerHTML = docLinkHtml;\n",
              "          element.appendChild(docLink);\n",
              "        }\n",
              "      </script>\n",
              "    </div>\n",
              "  </div>\n",
              "  "
            ]
          },
          "metadata": {},
          "execution_count": 25
        }
      ]
    },
    {
      "cell_type": "code",
      "source": [
        "df1[\"bias_prior_corrected\"].mean()"
      ],
      "metadata": {
        "colab": {
          "base_uri": "https://localhost:8080/"
        },
        "id": "2JcRd9rBo4EJ",
        "outputId": "a5c1fb76-2a27-48e9-c9e8-68b1fa9f7c8e"
      },
      "execution_count": 26,
      "outputs": [
        {
          "output_type": "execute_result",
          "data": {
            "text/plain": [
              "0.040313516890428856"
            ]
          },
          "metadata": {},
          "execution_count": 26
        }
      ]
    },
    {
      "cell_type": "code",
      "source": [
        "df2 = calc_bias_for_topic(relaxed_words)\n",
        "df2[-k:]"
      ],
      "metadata": {
        "colab": {
          "base_uri": "https://localhost:8080/",
          "height": 676
        },
        "id": "m7Sw2d0JrLHm",
        "outputId": "76704deb-4a8c-4416-8054-da5f8b42ecfb"
      },
      "execution_count": 28,
      "outputs": [
        {
          "output_type": "execute_result",
          "data": {
            "text/plain": [
              "        stimulus      bias  prior_correction  bias_prior_corrected\n",
              "0           help -0.319322          0.294753             -0.614074\n",
              "1           good -0.159975          0.294753             -0.454728\n",
              "2        started  0.226320          0.294753             -0.068433\n",
              "3           well -0.191389          0.294753             -0.486142\n",
              "4           able  0.090212          0.294753             -0.204540\n",
              "5           made -0.326633          0.294753             -0.621386\n",
              "6       together -0.193437          0.294753             -0.488190\n",
              "7          thank  0.052191          0.294753             -0.242562\n",
              "8           went  0.105725          0.294753             -0.189028\n",
              "9           make -0.040059          0.294753             -0.334812\n",
              "10         found -0.177995          0.294753             -0.472748\n",
              "11          best -0.504957          0.294753             -0.799709\n",
              "12  relationship -0.037723          0.294753             -0.332475\n",
              "13          work -0.139640          0.294753             -0.434392\n",
              "14        friend  0.083205          0.294753             -0.211547\n",
              "15          used -0.331181          0.294753             -0.625934\n",
              "16         first  0.166545          0.294753             -0.128208\n",
              "17       another  0.342326          0.294753              0.047573\n",
              "18        helped  0.086931          0.294753             -0.207822\n",
              "19          life  0.079443          0.294753             -0.215310"
            ],
            "text/html": [
              "\n",
              "  <div id=\"df-9d2babe3-b5d7-4bb1-93f6-a514106689eb\">\n",
              "    <div class=\"colab-df-container\">\n",
              "      <div>\n",
              "<style scoped>\n",
              "    .dataframe tbody tr th:only-of-type {\n",
              "        vertical-align: middle;\n",
              "    }\n",
              "\n",
              "    .dataframe tbody tr th {\n",
              "        vertical-align: top;\n",
              "    }\n",
              "\n",
              "    .dataframe thead th {\n",
              "        text-align: right;\n",
              "    }\n",
              "</style>\n",
              "<table border=\"1\" class=\"dataframe\">\n",
              "  <thead>\n",
              "    <tr style=\"text-align: right;\">\n",
              "      <th></th>\n",
              "      <th>stimulus</th>\n",
              "      <th>bias</th>\n",
              "      <th>prior_correction</th>\n",
              "      <th>bias_prior_corrected</th>\n",
              "    </tr>\n",
              "  </thead>\n",
              "  <tbody>\n",
              "    <tr>\n",
              "      <th>0</th>\n",
              "      <td>help</td>\n",
              "      <td>-0.319322</td>\n",
              "      <td>0.294753</td>\n",
              "      <td>-0.614074</td>\n",
              "    </tr>\n",
              "    <tr>\n",
              "      <th>1</th>\n",
              "      <td>good</td>\n",
              "      <td>-0.159975</td>\n",
              "      <td>0.294753</td>\n",
              "      <td>-0.454728</td>\n",
              "    </tr>\n",
              "    <tr>\n",
              "      <th>2</th>\n",
              "      <td>started</td>\n",
              "      <td>0.226320</td>\n",
              "      <td>0.294753</td>\n",
              "      <td>-0.068433</td>\n",
              "    </tr>\n",
              "    <tr>\n",
              "      <th>3</th>\n",
              "      <td>well</td>\n",
              "      <td>-0.191389</td>\n",
              "      <td>0.294753</td>\n",
              "      <td>-0.486142</td>\n",
              "    </tr>\n",
              "    <tr>\n",
              "      <th>4</th>\n",
              "      <td>able</td>\n",
              "      <td>0.090212</td>\n",
              "      <td>0.294753</td>\n",
              "      <td>-0.204540</td>\n",
              "    </tr>\n",
              "    <tr>\n",
              "      <th>5</th>\n",
              "      <td>made</td>\n",
              "      <td>-0.326633</td>\n",
              "      <td>0.294753</td>\n",
              "      <td>-0.621386</td>\n",
              "    </tr>\n",
              "    <tr>\n",
              "      <th>6</th>\n",
              "      <td>together</td>\n",
              "      <td>-0.193437</td>\n",
              "      <td>0.294753</td>\n",
              "      <td>-0.488190</td>\n",
              "    </tr>\n",
              "    <tr>\n",
              "      <th>7</th>\n",
              "      <td>thank</td>\n",
              "      <td>0.052191</td>\n",
              "      <td>0.294753</td>\n",
              "      <td>-0.242562</td>\n",
              "    </tr>\n",
              "    <tr>\n",
              "      <th>8</th>\n",
              "      <td>went</td>\n",
              "      <td>0.105725</td>\n",
              "      <td>0.294753</td>\n",
              "      <td>-0.189028</td>\n",
              "    </tr>\n",
              "    <tr>\n",
              "      <th>9</th>\n",
              "      <td>make</td>\n",
              "      <td>-0.040059</td>\n",
              "      <td>0.294753</td>\n",
              "      <td>-0.334812</td>\n",
              "    </tr>\n",
              "    <tr>\n",
              "      <th>10</th>\n",
              "      <td>found</td>\n",
              "      <td>-0.177995</td>\n",
              "      <td>0.294753</td>\n",
              "      <td>-0.472748</td>\n",
              "    </tr>\n",
              "    <tr>\n",
              "      <th>11</th>\n",
              "      <td>best</td>\n",
              "      <td>-0.504957</td>\n",
              "      <td>0.294753</td>\n",
              "      <td>-0.799709</td>\n",
              "    </tr>\n",
              "    <tr>\n",
              "      <th>12</th>\n",
              "      <td>relationship</td>\n",
              "      <td>-0.037723</td>\n",
              "      <td>0.294753</td>\n",
              "      <td>-0.332475</td>\n",
              "    </tr>\n",
              "    <tr>\n",
              "      <th>13</th>\n",
              "      <td>work</td>\n",
              "      <td>-0.139640</td>\n",
              "      <td>0.294753</td>\n",
              "      <td>-0.434392</td>\n",
              "    </tr>\n",
              "    <tr>\n",
              "      <th>14</th>\n",
              "      <td>friend</td>\n",
              "      <td>0.083205</td>\n",
              "      <td>0.294753</td>\n",
              "      <td>-0.211547</td>\n",
              "    </tr>\n",
              "    <tr>\n",
              "      <th>15</th>\n",
              "      <td>used</td>\n",
              "      <td>-0.331181</td>\n",
              "      <td>0.294753</td>\n",
              "      <td>-0.625934</td>\n",
              "    </tr>\n",
              "    <tr>\n",
              "      <th>16</th>\n",
              "      <td>first</td>\n",
              "      <td>0.166545</td>\n",
              "      <td>0.294753</td>\n",
              "      <td>-0.128208</td>\n",
              "    </tr>\n",
              "    <tr>\n",
              "      <th>17</th>\n",
              "      <td>another</td>\n",
              "      <td>0.342326</td>\n",
              "      <td>0.294753</td>\n",
              "      <td>0.047573</td>\n",
              "    </tr>\n",
              "    <tr>\n",
              "      <th>18</th>\n",
              "      <td>helped</td>\n",
              "      <td>0.086931</td>\n",
              "      <td>0.294753</td>\n",
              "      <td>-0.207822</td>\n",
              "    </tr>\n",
              "    <tr>\n",
              "      <th>19</th>\n",
              "      <td>life</td>\n",
              "      <td>0.079443</td>\n",
              "      <td>0.294753</td>\n",
              "      <td>-0.215310</td>\n",
              "    </tr>\n",
              "  </tbody>\n",
              "</table>\n",
              "</div>\n",
              "      <button class=\"colab-df-convert\" onclick=\"convertToInteractive('df-9d2babe3-b5d7-4bb1-93f6-a514106689eb')\"\n",
              "              title=\"Convert this dataframe to an interactive table.\"\n",
              "              style=\"display:none;\">\n",
              "        \n",
              "  <svg xmlns=\"http://www.w3.org/2000/svg\" height=\"24px\"viewBox=\"0 0 24 24\"\n",
              "       width=\"24px\">\n",
              "    <path d=\"M0 0h24v24H0V0z\" fill=\"none\"/>\n",
              "    <path d=\"M18.56 5.44l.94 2.06.94-2.06 2.06-.94-2.06-.94-.94-2.06-.94 2.06-2.06.94zm-11 1L8.5 8.5l.94-2.06 2.06-.94-2.06-.94L8.5 2.5l-.94 2.06-2.06.94zm10 10l.94 2.06.94-2.06 2.06-.94-2.06-.94-.94-2.06-.94 2.06-2.06.94z\"/><path d=\"M17.41 7.96l-1.37-1.37c-.4-.4-.92-.59-1.43-.59-.52 0-1.04.2-1.43.59L10.3 9.45l-7.72 7.72c-.78.78-.78 2.05 0 2.83L4 21.41c.39.39.9.59 1.41.59.51 0 1.02-.2 1.41-.59l7.78-7.78 2.81-2.81c.8-.78.8-2.07 0-2.86zM5.41 20L4 18.59l7.72-7.72 1.47 1.35L5.41 20z\"/>\n",
              "  </svg>\n",
              "      </button>\n",
              "      \n",
              "  <style>\n",
              "    .colab-df-container {\n",
              "      display:flex;\n",
              "      flex-wrap:wrap;\n",
              "      gap: 12px;\n",
              "    }\n",
              "\n",
              "    .colab-df-convert {\n",
              "      background-color: #E8F0FE;\n",
              "      border: none;\n",
              "      border-radius: 50%;\n",
              "      cursor: pointer;\n",
              "      display: none;\n",
              "      fill: #1967D2;\n",
              "      height: 32px;\n",
              "      padding: 0 0 0 0;\n",
              "      width: 32px;\n",
              "    }\n",
              "\n",
              "    .colab-df-convert:hover {\n",
              "      background-color: #E2EBFA;\n",
              "      box-shadow: 0px 1px 2px rgba(60, 64, 67, 0.3), 0px 1px 3px 1px rgba(60, 64, 67, 0.15);\n",
              "      fill: #174EA6;\n",
              "    }\n",
              "\n",
              "    [theme=dark] .colab-df-convert {\n",
              "      background-color: #3B4455;\n",
              "      fill: #D2E3FC;\n",
              "    }\n",
              "\n",
              "    [theme=dark] .colab-df-convert:hover {\n",
              "      background-color: #434B5C;\n",
              "      box-shadow: 0px 1px 3px 1px rgba(0, 0, 0, 0.15);\n",
              "      filter: drop-shadow(0px 1px 2px rgba(0, 0, 0, 0.3));\n",
              "      fill: #FFFFFF;\n",
              "    }\n",
              "  </style>\n",
              "\n",
              "      <script>\n",
              "        const buttonEl =\n",
              "          document.querySelector('#df-9d2babe3-b5d7-4bb1-93f6-a514106689eb button.colab-df-convert');\n",
              "        buttonEl.style.display =\n",
              "          google.colab.kernel.accessAllowed ? 'block' : 'none';\n",
              "\n",
              "        async function convertToInteractive(key) {\n",
              "          const element = document.querySelector('#df-9d2babe3-b5d7-4bb1-93f6-a514106689eb');\n",
              "          const dataTable =\n",
              "            await google.colab.kernel.invokeFunction('convertToInteractive',\n",
              "                                                     [key], {});\n",
              "          if (!dataTable) return;\n",
              "\n",
              "          const docLinkHtml = 'Like what you see? Visit the ' +\n",
              "            '<a target=\"_blank\" href=https://colab.research.google.com/notebooks/data_table.ipynb>data table notebook</a>'\n",
              "            + ' to learn more about interactive tables.';\n",
              "          element.innerHTML = '';\n",
              "          dataTable['output_type'] = 'display_data';\n",
              "          await google.colab.output.renderOutput(dataTable, element);\n",
              "          const docLink = document.createElement('div');\n",
              "          docLink.innerHTML = docLinkHtml;\n",
              "          element.appendChild(docLink);\n",
              "        }\n",
              "      </script>\n",
              "    </div>\n",
              "  </div>\n",
              "  "
            ]
          },
          "metadata": {},
          "execution_count": 28
        }
      ]
    },
    {
      "cell_type": "code",
      "source": [
        "df2[\"bias_prior_corrected\"].mean()"
      ],
      "metadata": {
        "colab": {
          "base_uri": "https://localhost:8080/"
        },
        "id": "n5_Qiu5_rLFR",
        "outputId": "b9486570-b325-4186-de9b-3635964b69bf"
      },
      "execution_count": 29,
      "outputs": [
        {
          "output_type": "execute_result",
          "data": {
            "text/plain": [
              "-0.15399659529319856"
            ]
          },
          "metadata": {},
          "execution_count": 29
        }
      ]
    },
    {
      "cell_type": "code",
      "source": [
        "bias_utils.get_effect_size(df1, df2)"
      ],
      "metadata": {
        "colab": {
          "base_uri": "https://localhost:8080/"
        },
        "id": "4lduRTsGrKok",
        "outputId": "f2463b4a-e651-421e-8508-ca470c0a9e17"
      },
      "execution_count": 30,
      "outputs": [
        {
          "output_type": "execute_result",
          "data": {
            "text/plain": [
              "0.41601162434616906"
            ]
          },
          "metadata": {},
          "execution_count": 30
        }
      ]
    },
    {
      "cell_type": "code",
      "source": [
        "ttest_ind(df1[\"bias_prior_corrected\"], df2[\"bias_prior_corrected\"])"
      ],
      "metadata": {
        "colab": {
          "base_uri": "https://localhost:8080/"
        },
        "id": "Wc01Xx4HtOQD",
        "outputId": "c697c52a-0316-4149-a67b-d07d62b5520c"
      },
      "execution_count": 31,
      "outputs": [
        {
          "output_type": "execute_result",
          "data": {
            "text/plain": [
              "Ttest_indResult(statistic=2.320174525439556, pvalue=0.022049762070651367)"
            ]
          },
          "metadata": {},
          "execution_count": 31
        }
      ]
    },
    {
      "cell_type": "code",
      "source": [
        "ranksums(df1[\"bias_prior_corrected\"], df2[\"bias_prior_corrected\"])"
      ],
      "metadata": {
        "colab": {
          "base_uri": "https://localhost:8080/"
        },
        "id": "SdmFoaQYtONs",
        "outputId": "66f28aa4-c9a8-46f9-aecd-c90bc875b416"
      },
      "execution_count": 32,
      "outputs": [
        {
          "output_type": "execute_result",
          "data": {
            "text/plain": [
              "RanksumsResult(statistic=3.1754264805429417, pvalue=0.0014961642897455493)"
            ]
          },
          "metadata": {},
          "execution_count": 32
        }
      ]
    },
    {
      "cell_type": "code",
      "source": [
        "bias_utils.exact_mc_perm_test(df1[\"bias_prior_corrected\"], df2[\"bias_prior_corrected\"], )"
      ],
      "metadata": {
        "colab": {
          "base_uri": "https://localhost:8080/"
        },
        "id": "qMqA3R92tOK4",
        "outputId": "1f2d5e67-f88a-4eeb-ba3b-e0a4bacfc72e"
      },
      "execution_count": 33,
      "outputs": [
        {
          "output_type": "execute_result",
          "data": {
            "text/plain": [
              "0.02147"
            ]
          },
          "metadata": {},
          "execution_count": 33
        }
      ]
    },
    {
      "cell_type": "code",
      "source": [
        ""
      ],
      "metadata": {
        "id": "nlSQ6lgDB_eH"
      },
      "execution_count": null,
      "outputs": []
    }
  ],
  "metadata": {
    "kernelspec": {
      "display_name": "Python 3",
      "language": "python",
      "name": "python3"
    },
    "language_info": {
      "codemirror_mode": {
        "name": "ipython",
        "version": 3
      },
      "file_extension": ".py",
      "mimetype": "text/x-python",
      "name": "python",
      "nbconvert_exporter": "python",
      "pygments_lexer": "ipython3",
      "version": "3.6.7"
    },
    "colab": {
      "name": "gender_bias_in_stress_detection_model.ipynb",
      "provenance": [],
      "collapsed_sections": []
    }
  },
  "nbformat": 4,
  "nbformat_minor": 0
}